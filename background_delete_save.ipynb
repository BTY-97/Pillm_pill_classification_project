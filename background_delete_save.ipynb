{
  "cells": [
    {
      "cell_type": "code",
      "execution_count": null,
      "metadata": {
        "colab": {
          "base_uri": "https://localhost:8080/"
        },
        "id": "9rjqFVWDTNJm",
        "outputId": "25422ea5-c156-4d96-d9f1-3c32aa038034"
      },
      "outputs": [
        {
          "output_type": "stream",
          "name": "stdout",
          "text": [
            "tensorflow 2.9.2\n",
            "keras 2.9.0\n"
          ]
        }
      ],
      "source": [
        "import tensorflow as tf\n",
        "import tensorflow.keras as keras\n",
        "import cv2 as cv\n",
        "import numpy as np\n",
        "import matplotlib.pyplot as plt\n",
        "from PIL import Image\n",
        "print('tensorflow {}'.format(tf.__version__))\n",
        "print(\"keras {}\".format(keras.__version__))"
      ]
    },
    {
      "cell_type": "code",
      "execution_count": null,
      "metadata": {
        "id": "D_NggBatTXr6"
      },
      "outputs": [],
      "source": [
        "import warnings\n",
        "warnings.filterwarnings(\"ignore\")"
      ]
    },
    {
      "cell_type": "code",
      "source": [
        "def background_delete_save_ver2(_img,cnt):\n",
        "  dir = cnt//1000\n",
        "  img = cv.imread(_img)\n",
        "  height, width, channel = img.shape\n",
        "  rgb = cv.cvtColor(img, cv.COLOR_BGR2RGB)\n",
        "  hsv = cv.cvtColor(rgb, cv.COLOR_RGB2HSV)/255.0\n",
        "  h,s,v = cv.split(hsv)\n",
        "  metric = (h>h[0][0]+0.015) | (h<h[0][0]-0.015) | (s>s[0][0]+0.045) | (s<s[0][0]-0.045)\n",
        "  metric = metric.reshape(height,width,1)\n",
        "  new_img = img*metric\n",
        "  cv.imwrite('/content/drive/MyDrive/all_pills/ver2/{}.jpg'.format(cnt), new_img)\n"
      ],
      "metadata": {
        "id": "-iRPHiwAUuCs"
      },
      "execution_count": null,
      "outputs": []
    },
    {
      "cell_type": "code",
      "execution_count": null,
      "metadata": {
        "id": "M9gUcOtATfA5"
      },
      "outputs": [],
      "source": [
        "cnt = 0\n",
        "for i in range(0,18776):\n",
        "  background_delete_save_ver2('/content/drive/MyDrive/all_pills/{}.jpg'.format(i),cnt)\n",
        "  cnt += 1\n",
        "  if i%187==186:\n",
        "    print(i,'Done \\n')\n",
        "  "
      ]
    },
    {
      "cell_type": "code",
      "execution_count": null,
      "metadata": {
        "colab": {
          "base_uri": "https://localhost:8080/",
          "height": 53
        },
        "id": "PWCnZog1UIOF",
        "outputId": "8a0bc6cf-d880-4ea3-a5b5-65121242ef23"
      },
      "outputs": [
        {
          "data": {
            "application/vnd.google.colaboratory.intrinsic+json": {
              "type": "string"
            },
            "text/plain": [
              "'-------------------------------------------------------------------------------------------------------------------------------'"
            ]
          },
          "execution_count": 1,
          "metadata": {},
          "output_type": "execute_result"
        }
      ],
      "source": [
        "'-------------------------------------------------------------------------------------------------------------------------------'"
      ]
    },
    {
      "cell_type": "code",
      "execution_count": null,
      "metadata": {
        "id": "-W9KLaVg5ag9"
      },
      "outputs": [],
      "source": [
        "not_done=[1017,1095,1958,1959,1960,1961,1962,1963,1964,1965,1966,1967,1968,1969,1970,1971,1972,1973,1976,1977]"
      ]
    },
    {
      "cell_type": "code",
      "execution_count": null,
      "metadata": {
        "id": "UtY9svws5tCM"
      },
      "outputs": [],
      "source": [
        "for nd in not_done:\n",
        "  dir = nd//1000\n",
        "  img = cv.imread('/content/drive/MyDrive/all_pills/{}.jpg'.format(nd))\n",
        "  height, width, channel = img.shape\n",
        "  rgb = cv.cvtColor(img, cv.COLOR_BGR2RGB)\n",
        "  hsv = cv.cvtColor(rgb, cv.COLOR_RGB2HSV)/255.0\n",
        "  h,s,v = cv.split(hsv)\n",
        "  metric = (h>h[-1][-1]+0.015) | (h<h[-1][-1]-0.015) | (s>s[-1][-1]+0.045) | (s<s[-1][-1]-0.045)\n",
        "  metric = metric.reshape(height,width,1)\n",
        "  new_img = Image.fromarray(img*metric)\n",
        "  new_img.save('/content/drive/MyDrive/all_pills_bgd/{}000-{}999/{}.jpg'.format(dir,dir,nd))"
      ]
    },
    {
      "cell_type": "code",
      "execution_count": null,
      "metadata": {
        "id": "0wUc26C76SpV"
      },
      "outputs": [],
      "source": []
    },
    {
      "cell_type": "code",
      "execution_count": null,
      "metadata": {
        "id": "WM3J0E8zAbgB"
      },
      "outputs": [],
      "source": [
        "img = cv.imread('/content/drive/MyDrive/all_pills/0.jpg')\n",
        "height, width, channel = img.shape\n",
        "rgb = cv.cvtColor(img, cv.COLOR_BGR2RGB)\n",
        "hsv = cv.cvtColor(rgb, cv.COLOR_RGB2HSV)/255.0\n",
        "h,s,v = cv.split(hsv)\n",
        "metric = (h>h[0][0]+0.015) | (h<h[0][0]-0.015) | (s>s[0][0]+0.045) | (s<s[0][0]-0.045)\n",
        "metric = metric.reshape(height,width,1)\n",
        "new_img = rgb*metric\n"
      ]
    },
    {
      "cell_type": "code",
      "execution_count": null,
      "metadata": {
        "id": "qYkUdzafTzVp",
        "colab": {
          "base_uri": "https://localhost:8080/"
        },
        "outputId": "98a7d575-11e0-4820-d5de-0327267cd4ba"
      },
      "outputs": [
        {
          "output_type": "execute_result",
          "data": {
            "text/plain": [
              "((709, 1299, 3), (709, 1299, 1), (709, 1299, 3))"
            ]
          },
          "metadata": {},
          "execution_count": 35
        }
      ],
      "source": [
        "img.shape, metric.shape, new_img.shape"
      ]
    },
    {
      "cell_type": "code",
      "source": [
        "plt.imshow(new_img)\n",
        "plt.show()"
      ],
      "metadata": {
        "colab": {
          "base_uri": "https://localhost:8080/",
          "height": 235
        },
        "id": "uuoqSKGFTntP",
        "outputId": "9eb8e1d3-988f-479a-8fab-f6664da4b3a2"
      },
      "execution_count": null,
      "outputs": [
        {
          "output_type": "display_data",
          "data": {
            "text/plain": [
              "<Figure size 432x288 with 1 Axes>"
            ],
            "image/png": "[encoded data removed]"
          },
          "metadata": {
            "needs_background": "light"
          }
        }
      ]
    },
    {
      "cell_type": "code",
      "source": [
        "\n",
        "im = Image.open(_img)\n",
        "img = np.array(im)\n",
        "height, width, channel = img.shape\n",
        "bgr = img.astype(np.float)/255.0\n",
        "b, g, r = cv.split(bgr)\n",
        "h = np.zeros((height,width), dtype=np.float)\n",
        "s = np.zeros((height,width),dtype=np.float)\n",
        "v = np.max(bgr, axis=2)\n",
        "\n",
        "\n",
        "metric = (h>h[0][0]+0.015) | (h<h[0][0]-0.015) | (s>s[0][0]+0.045) | (s<s[0][0]-0.045)\n",
        "metric = metric.reshape(height,width,1)\n",
        "new_img = Image.fromarray(img*metric)"
      ],
      "metadata": {
        "id": "SwnpC_axS6ws"
      },
      "execution_count": null,
      "outputs": []
    },
    {
      "cell_type": "code",
      "source": [
        "'----------------------------'"
      ],
      "metadata": {
        "colab": {
          "base_uri": "https://localhost:8080/",
          "height": 35
        },
        "id": "tfImfkpbRQ2N",
        "outputId": "9a596993-3f57-40ba-e02d-13c68d50e1dd"
      },
      "execution_count": null,
      "outputs": [
        {
          "output_type": "execute_result",
          "data": {
            "text/plain": [
              "'----------------------------'"
            ],
            "application/vnd.google.colaboratory.intrinsic+json": {
              "type": "string"
            }
          },
          "metadata": {},
          "execution_count": 7
        }
      ]
    },
    {
      "cell_type": "code",
      "source": [
        "def background_delete_save_ver3(_img,cnt):       # for masking\n",
        "  dir = cnt//1000\n",
        "  img = cv.imread(_img)\n",
        "  img = cv.resize(img, (224,224), interpolation = cv.INTER_AREA)\n",
        "  height, width, channel = img.shape\n",
        "  rgb = cv.cvtColor(img, cv.COLOR_BGR2RGB)\n",
        "  hsv = cv.cvtColor(rgb, cv.COLOR_RGB2HSV)/255.0\n",
        "  h,s,v = cv.split(hsv)\n",
        "  metric = (h>h[0][0]+0.015) | (h<h[0][0]-0.015) | (s>s[0][0]+0.045) | (s<s[0][0]-0.045)\n",
        "  metric = metric.reshape(height,width,1)\n",
        "  metric = metric.astype(int)\n",
        "  #metric = (metric* -1) + 1\n",
        "  return metric\n",
        "  #new_img = np.concatenate((np.zeros((height,width,1)), np.zeros((height,width,1)), metric*255.0),axis=2)\n",
        "  #cv.imwrite('/content/drive/MyDrive/test/{}.jpg'.format(cnt), new_img)"
      ],
      "metadata": {
        "id": "77hamYymhwmy"
      },
      "execution_count": null,
      "outputs": []
    },
    {
      "cell_type": "code",
      "source": [
        "cnt = 0 \n",
        "l = list()\n",
        "for i in range(0, 18776):\n",
        "  try:\n",
        "    l.append(background_delete_save_ver3('/content/drive/MyDrive/pills_preprocessing/cropped_pills/{}_f.jpg'.format(i),cnt))\n",
        "  except:\n",
        "    l.append(np.zeros((224,224,1)))\n",
        "  cnt += 1\n",
        "  if i%1800==1799:\n",
        "    print(i+1,'Done \\n')\n",
        "  "
      ],
      "metadata": {
        "colab": {
          "base_uri": "https://localhost:8080/"
        },
        "id": "eG70HrFrRFbW",
        "outputId": "8d92e8cd-7df4-49a0-9bcf-df807dae0f81"
      },
      "execution_count": null,
      "outputs": [
        {
          "metadata": {
            "tags": null
          },
          "name": "stdout",
          "output_type": "stream",
          "text": [
            "1800 Done \n",
            "\n",
            "3600 Done \n",
            "\n",
            "5400 Done \n",
            "\n",
            "7200 Done \n",
            "\n",
            "9000 Done \n",
            "\n",
            "10800 Done \n",
            "\n",
            "12600 Done \n",
            "\n",
            "14400 Done \n",
            "\n",
            "16200 Done \n",
            "\n",
            "18000 Done \n",
            "\n"
          ]
        }
      ]
    },
    {
      "cell_type": "code",
      "source": [
        "import pickle"
      ],
      "metadata": {
        "id": "V-QKZyrsEiBc"
      },
      "execution_count": null,
      "outputs": []
    },
    {
      "cell_type": "code",
      "source": [
        "with open('/content/drive/MyDrive/cropped_masking_all_1', \"wb\" ) as file:\n",
        "    pickle.dump(ll[:10000], file)"
      ],
      "metadata": {
        "id": "y9s9uAH4YOsn"
      },
      "execution_count": null,
      "outputs": []
    },
    {
      "cell_type": "code",
      "source": [
        "with open('/content/drive/MyDrive/cropped_masking_all_2', \"wb\" ) as file:\n",
        "    pickle.dump(ll[10000:], file)"
      ],
      "metadata": {
        "id": "_zEgyfRuDvNf"
      },
      "execution_count": null,
      "outputs": []
    },
    {
      "cell_type": "code",
      "source": [],
      "metadata": {
        "id": "3Qc-lg3Ss_tU"
      },
      "execution_count": null,
      "outputs": []
    }
  ],
  "metadata": {
    "colab": {
      "provenance": [],
      "machine_shape": "hm"
    },
    "gpuClass": "premium",
    "kernelspec": {
      "display_name": "Python 3",
      "name": "python3"
    },
    "language_info": {
      "name": "python"
    }
  },
  "nbformat": 4,
  "nbformat_minor": 0
}