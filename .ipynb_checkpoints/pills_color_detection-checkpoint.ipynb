{
 "cells": [
  {
   "cell_type": "markdown",
   "metadata": {
    "colab_type": "text",
    "id": "view-in-github"
   },
   "source": [
    "<a href=\"https://colab.research.google.com/github/Bbonobono/Medicine/blob/main/pills_color_detection.ipynb\" target=\"_parent\"><img src=\"https://colab.research.google.com/assets/colab-badge.svg\" alt=\"Open In Colab\"/></a>"
   ]
  },
  {
   "cell_type": "code",
   "execution_count": 12,
   "metadata": {
    "id": "dypbv1c4GWMF"
   },
   "outputs": [],
   "source": [
    "import pandas as pd\n",
    "import numpy as np \n",
    "import matplotlib.pyplot as plt \n",
    "import sklearn\n",
    "from sklearn.cluster import KMeans\n",
    "from collections import Counter\n",
    "from skimage.color import rgb2lab, deltaE_cie76\n",
    "from PIL import Image\n",
    "import cv2\n"
   ]
  },
  {
   "cell_type": "code",
   "execution_count": 20,
   "metadata": {
    "colab": {
     "base_uri": "https://localhost:8080/"
    },
    "id": "TtT9o3IgKNFy",
    "outputId": "ae8c97ed-7122-47d9-f00f-2a03082323d2"
   },
   "outputs": [
    {
     "name": "stdout",
     "output_type": "stream",
     "text": [
      "Mounted at /content/drive\n"
     ]
    }
   ],
   "source": [
    "from google.colab import drive\n",
    "drive.mount('/content/drive')"
   ]
  },
  {
   "cell_type": "code",
   "execution_count": 2,
   "metadata": {
    "id": "nMvQA1ofGfG_"
   },
   "outputs": [],
   "source": [
    "def get_image(image_path):\n",
    "    image = cv2.imread(image_path)\n",
    "    image = cv2.cvtColor(image, cv2.COLOR_BGR2RGB)\n",
    "    return image\n",
    "def RGB2HEX(color):\n",
    "    return \"#{:02x}{:02x}{:02x}\".format(int(color[0]), int(color[1]), int(color[2]))"
   ]
  },
  {
   "cell_type": "code",
   "execution_count": 230,
   "metadata": {
    "colab": {
     "base_uri": "https://localhost:8080/"
    },
    "id": "f2FqlmTAHfZM",
    "outputId": "56c00cc1-2da1-47d7-c4e4-c54832ac24ef"
   },
   "outputs": [
    {
     "name": "stderr",
     "output_type": "stream",
     "text": [
      "/usr/local/lib/python3.7/dist-packages/ipykernel_launcher.py:6: DeprecationWarning: `np.float` is a deprecated alias for the builtin `float`. To silence this warning, use `float` by itself. Doing this will not modify any behavior and is safe. If you specifically wanted the numpy scalar type, use `np.float64` here.\n",
      "Deprecated in NumPy 1.20; for more details and guidance: https://numpy.org/devdocs/release/1.20.0-notes.html#deprecations\n",
      "  \n"
     ]
    }
   ],
   "source": [
    "path = '/content/drive/MyDrive/pills_train_no_bg/'\n",
    "train_img = list()\n",
    "cnt = 0\n",
    "for i in range(100):\n",
    "  im = Image.open(path+'{}.jpg'.format(cnt))\n",
    "  img = np.array(im.resize((227,227)),dtype=np.float)\n",
    "\n",
    "  train_img.append(img)\n",
    "  cnt += 1"
   ]
  },
  {
   "cell_type": "markdown",
   "metadata": {
    "id": "nYLM-FHOGnxc"
   },
   "source": [
    "Clustering"
   ]
  },
  {
   "cell_type": "code",
   "execution_count": 180,
   "metadata": {
    "id": "B_2552MyGk-X"
   },
   "outputs": [],
   "source": [
    "def clustering(img, number_of_colors = 5):\n",
    "  image = img\n",
    "  number_of_colors = number_of_colors\n",
    "  modified_image = image.reshape(image.shape[0]*image.shape[1], 3)\n",
    "  clf = KMeans(n_clusters = number_of_colors)\n",
    "  labels = clf.fit_predict(modified_image)\n",
    "\n",
    "  counts = Counter(labels)\n",
    "  center_colors = clf.cluster_centers_\n",
    "  # We get ordered colors by iterating through the keys\n",
    "  ordered_colors = [center_colors[i] for i in counts.keys()]\n",
    "  hex_colors = [RGB2HEX(ordered_colors[i]) for i in counts.keys()]\n",
    "  rgb_colors = [ordered_colors[i] for i in counts.keys()]\n",
    "\n",
    "  for i in range(len(hex_colors)):\n",
    "      try:\n",
    "          # 검은색 걸러내기\n",
    "          # if hex_colors[i] == '#000000':\n",
    "          #     del counts[i]\n",
    "          #     del hex_colors[i]\n",
    "          #     del rgb_colors[i]\n",
    "\n",
    "          # 어두운 회색 걸러내기 --- 어디까지 기준으로 잡고 쳐내야 하나?\n",
    "          if rgb_colors[i][0] < 140 and rgb_colors[i][1] < 140 and rgb_colors[i][2] < 140:\n",
    "              del counts[i]\n",
    "              del hex_colors[i]\n",
    "              del rgb_colors[i]\n",
    "      except:\n",
    "          pass\n",
    "\n",
    "  return rgb_colors, hex_colors, counts"
   ]
  },
  {
   "cell_type": "code",
   "execution_count": 231,
   "metadata": {
    "id": "SHUGej3hZtn8"
   },
   "outputs": [],
   "source": [
    "result = clustering(train_img[0], number_of_colors=4)"
   ]
  },
  {
   "cell_type": "markdown",
   "metadata": {
    "id": "HgAmkHqabJ9c"
   },
   "source": [
    "Clustering 한 결과 가지고 파이차트 그리기"
   ]
  },
  {
   "cell_type": "code",
   "execution_count": 232,
   "metadata": {
    "colab": {
     "base_uri": "https://localhost:8080/",
     "height": 342
    },
    "id": "PfA-X5W4HDuR",
    "outputId": "7f41274c-48c9-437b-9e86-fe53d7095be7"
   },
   "outputs": [
    {
     "data": {
      "text/plain": [
       "([<matplotlib.patches.Wedge at 0x7fab155f4390>,\n",
       "  <matplotlib.patches.Wedge at 0x7fab155f48d0>],\n",
       " [Text(1.0470649700392733, 0.3371274959368574, '#5e8167'),\n",
       "  Text(-1.0470649384751147, -0.3371275939701532, '#70c983')])"
      ]
     },
     "execution_count": 232,
     "metadata": {},
     "output_type": "execute_result"
    },
    {
     "data": {
      "image/png": "[encoded data removed]",
      "text/plain": [
       "<Figure size 432x288 with 1 Axes>"
      ]
     },
     "metadata": {},
     "output_type": "display_data"
    }
   ],
   "source": [
    "plt.title('Colors Detection', fontsize=20)\n",
    "plt.pie(result[2].values(), labels = result[1], colors = result[1])"
   ]
  },
  {
   "cell_type": "markdown",
   "metadata": {
    "id": "tG7uYdyEbeNW"
   },
   "source": [
    "Classifying"
   ]
  },
  {
   "cell_type": "code",
   "execution_count": 233,
   "metadata": {
    "id": "7oDCYQ6CLKlc"
   },
   "outputs": [],
   "source": [
    "def classify(rgb_tuple):\n",
    "\n",
    "    \n",
    "# 약학정보원 홈페이지 캡처 기준\n",
    "    colors = {\"하양\": (255,255,255),\n",
    "              \"노랑\" : (251,234,73),\n",
    "              \"주황\" : (245,155,34),\n",
    "              \"분홍\" : (245,111,213),\n",
    "              \"빨강\" : (242,44,27),\n",
    "              \"갈색\" : (163,75,41),\n",
    "              \"연두\" : (144,193,79),\n",
    "              \"초록\" : (47,148,51),\n",
    "              \"파랑\" : (82,108,253),\n",
    "              \"남색\" : (34,44,171),\n",
    "              \"자주\" : (176,32,118),\n",
    "              \"보라\" : (149,31,180),\n",
    "              \"회색\" : (158,158,158),\n",
    "#              \"검정\" : (0,0,0)\n",
    "              }\n",
    "\n",
    "\n",
    "# #국가기술표준원 표준색 기준\n",
    "#     colors = {\"하양\": (243,244,242),\n",
    "#               \"노랑\" : (255,209,13),\n",
    "#               \"주황\" : (242,119,61),\n",
    "#               \"분홍\" : (233,158,168),\n",
    "#               \"빨강\" : (187,70,66),\n",
    "#               \"갈색\" : (151,90,62),\n",
    "#               \"연두\" : (148,192,86),\n",
    "#               \"초록\" : (36,124,77),\n",
    "#               \"파랑\" : (15,124,168),\n",
    "#               \"남색\" : (65,74,103),\n",
    "#               \"자주\" : (139,66,95),\n",
    "#               \"보라\" : (102,85,129),\n",
    "#               \"회색\" : (129,131,131),\n",
    "#               \"검정\" : (0,0,0)\n",
    "#               }\n",
    "\n",
    "\n",
    "    manhattan = lambda x,y : abs(x[0] - y[0]) + abs(x[1] - y[1]) + abs(x[2] - y[2]) \n",
    "    distances = {k: manhattan(v, rgb_tuple) for k, v in colors.items()}\n",
    "    color = min(distances, key=distances.get)\n",
    "    return color"
   ]
  },
  {
   "cell_type": "code",
   "execution_count": 234,
   "metadata": {
    "colab": {
     "base_uri": "https://localhost:8080/"
    },
    "id": "oOUnJdKjLMVD",
    "outputId": "d176cdb3-6d4b-4f3a-b933-9740eba077fc"
   },
   "outputs": [
    {
     "data": {
      "text/plain": [
       "['초록', '연두']"
      ]
     },
     "execution_count": 234,
     "metadata": {},
     "output_type": "execute_result"
    }
   ],
   "source": [
    "pillColor = list()\n",
    "for _ in range(len(result[0])):\n",
    "    pointColor = classify(result[0][_])\n",
    "    pillColor.append(pointColor)\n",
    "pillColor"
   ]
  },
  {
   "cell_type": "markdown",
   "metadata": {
    "id": "3Z8W6hxEa4oH"
   },
   "source": [
    "Clustering - Classifying N번 반복"
   ]
  },
  {
   "cell_type": "code",
   "execution_count": 235,
   "metadata": {
    "id": "xidTKUk3S6-i"
   },
   "outputs": [],
   "source": [
    "resultList = list()\n",
    "result = list()\n",
    "pillColor = list()\n",
    "for i in range(30):\n",
    "  result = clustering(train_img[i], number_of_colors=4)\n",
    "  for _ in range(len(result[0])):\n",
    "    pointColor = classify(result[0][_])\n",
    "    pillColor.append(pointColor)\n",
    "  resultList.append([i,pillColor])\n",
    "  pillColor = list()"
   ]
  },
  {
   "cell_type": "code",
   "execution_count": 205,
   "metadata": {
    "colab": {
     "base_uri": "https://localhost:8080/"
    },
    "id": "InSdN0EgXZjK",
    "outputId": "aefcfa02-002d-46c4-98f1-93d7e7bfd5f2"
   },
   "outputs": [
    {
     "data": {
      "text/plain": [
       "array([236.43710692, 168.56918239, 154.360587  ])"
      ]
     },
     "execution_count": 205,
     "metadata": {},
     "output_type": "execute_result"
    }
   ],
   "source": [
    "result[0][0]"
   ]
  },
  {
   "cell_type": "code",
   "execution_count": 237,
   "metadata": {
    "colab": {
     "base_uri": "https://localhost:8080/"
    },
    "id": "zdso70OpY8Pc",
    "outputId": "a9d96df5-440f-42c1-d921-79a1626e9f40"
   },
   "outputs": [
    {
     "data": {
      "text/plain": [
       "[[0, ['초록', '연두']],\n",
       " [1, ['노랑', '초록']],\n",
       " [2, ['회색', '하양']],\n",
       " [3, ['하양', '회색']],\n",
       " [4, ['자주', '회색']],\n",
       " [5, ['하양', '하양']],\n",
       " [6, ['회색', '주황']],\n",
       " [7, ['하양', '회색']],\n",
       " [8, ['회색', '하양']],\n",
       " [9, ['회색', '회색']],\n",
       " [10, ['갈색', '회색']],\n",
       " [11, ['회색', '하양']],\n",
       " [12, ['회색', '하양']],\n",
       " [13, ['회색', '회색']],\n",
       " [14, ['회색', '하양']],\n",
       " [15, ['회색', '주황']],\n",
       " [16, ['회색', '하양']],\n",
       " [17, ['주황', '노랑']],\n",
       " [18, ['회색', '하양']],\n",
       " [19, ['분홍', '회색']],\n",
       " [20, ['회색', '하양']],\n",
       " [21, ['연두', '회색']],\n",
       " [22, ['연두', '회색']],\n",
       " [23, ['회색', '분홍']],\n",
       " [24, ['회색', '초록']],\n",
       " [25, ['주황', '노랑']],\n",
       " [26, ['빨강', '주황']],\n",
       " [27, ['분홍', '하양']],\n",
       " [28, ['회색', '하양']],\n",
       " [29, ['초록', '초록']]]"
      ]
     },
     "execution_count": 237,
     "metadata": {},
     "output_type": "execute_result"
    }
   ],
   "source": [
    "resultList"
   ]
  }
 ],
 "metadata": {
  "colab": {
   "authorship_tag": "ABX9TyMcd5O8hK05tXAPaOyHdPMn",
   "include_colab_link": true,
   "provenance": []
  },
  "kernelspec": {
   "display_name": "Python 3 (ipykernel)",
   "language": "python",
   "name": "python3"
  },
  "language_info": {
   "codemirror_mode": {
    "name": "ipython",
    "version": 3
   },
   "file_extension": ".py",
   "mimetype": "text/x-python",
   "name": "python",
   "nbconvert_exporter": "python",
   "pygments_lexer": "ipython3",
   "version": "3.9.12"
  }
 },
 "nbformat": 4,
 "nbformat_minor": 1
}
