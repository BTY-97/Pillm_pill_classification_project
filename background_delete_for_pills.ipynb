{
  "cells": [
    {
      "cell_type": "code",
      "execution_count": null,
      "metadata": {
        "colab": {
          "base_uri": "https://localhost:8080/"
        },
        "id": "9rjqFVWDTNJm",
        "outputId": "36ed5bc1-6140-4995-bf89-4145da3d919f"
      },
      "outputs": [
        {
          "name": "stdout",
          "output_type": "stream",
          "text": [
            "tensorflow 2.9.2\n",
            "keras 2.9.0\n"
          ]
        }
      ],
      "source": [
        "import tensorflow as tf\n",
        "import tensorflow.keras as keras\n",
        "import cv2 as cv\n",
        "import numpy as np\n",
        "import matplotlib.pyplot as plt\n",
        "from PIL import Image\n",
        "print('tensorflow {}'.format(tf.__version__))\n",
        "print(\"keras {}\".format(keras.__version__))"
      ]
    },
    {
      "cell_type": "code",
      "execution_count": null,
      "metadata": {
        "id": "oQf4DUWBTR5v"
      },
      "outputs": [],
      "source": [
        "def background_delete_save(_img,cnt):\n",
        "  im = Image.open(_img)\n",
        "  img = np.array(im)\n",
        "  height, width, channel = img.shape\n",
        "  bgr = img.astype(np.float)/255.0\n",
        "  b, g, r = cv.split(bgr)\n",
        "  h = np.zeros((height,width), dtype=np.float)\n",
        "  s = np.zeros((height,width),dtype=np.float)\n",
        "  v = np.max(bgr, axis=2)\n",
        "  for i in range(height):\n",
        "    for j in range(width):\n",
        "        if v[i][j] == 0:\n",
        "            h[i][j] = 0\n",
        "            s[i][j] = 0\n",
        "        else:\n",
        "            min_rgb = min(bgr[i][j])\n",
        "            \n",
        "            s[i][j] = 1 - (min_rgb / v[i][j])\n",
        "            \n",
        "            if v[i][j] == r[i][j]:\n",
        "                h[i][j] = 60 * (g[i][j] - b[i][j]) / (v[i][j] - min_rgb + 0.00001)\n",
        "            elif v[i][j] == g[i][j]:\n",
        "                h[i][j] = 120 + (60 * (b[i][j] - r[i][j])) / (v[i][j] - min_rgb + 0.00001)\n",
        "            elif v[i][j] == b[i][j]:\n",
        "                h[i][j] = 240 + (60 * (r[i][j] - g[i][j])) / (v[i][j] - min_rgb + 0.00001)\n",
        "            if h[i][j] < 0:\n",
        "                h[i][j] += 360\n",
        "            h[i][j] /= 360\n",
        "  #metric = (h>h[0][0]+0.03) | (h<h[0][0]-0.03)\n",
        "  metric = (h>h[0][0]+0.015) | (h<h[0][0]-0.015) | (s>s[0][0]+0.045) | (s<s[0][0]-0.045)\n",
        "  metric = metric.reshape(height,width,1)\n",
        "  new_img = Image.fromarray(img*metric)\n",
        "  new_img.save('/content/drive/MyDrive/8000_pills/{}.jpg'.format(cnt))\n"
      ]
    },
    {
      "cell_type": "code",
      "execution_count": null,
      "metadata": {
        "id": "D_NggBatTXr6"
      },
      "outputs": [],
      "source": [
        "import warnings\n",
        "warnings.filterwarnings(\"ignore\")"
      ]
    },
    {
      "cell_type": "code",
      "execution_count": null,
      "metadata": {
        "colab": {
          "background_save": true
        },
        "id": "M9gUcOtATfA5"
      },
      "outputs": [],
      "source": [
        "cnt = 0\n",
        "for i in range(8144):\n",
        "  background_delete_save('/content/drive/MyDrive/pills/{}.jpg'.format(i),cnt)\n",
        "  cnt += 1\n",
        "  if i%81==0:\n",
        "    print(i//81,'% Done \\n')"
      ]
    },
    {
      "cell_type": "code",
      "execution_count": null,
      "metadata": {
        "id": "PWCnZog1UIOF"
      },
      "outputs": [],
      "source": []
    }
  ],
  "metadata": {
    "colab": {
      "collapsed_sections": [],
      "provenance": []
    },
    "kernelspec": {
      "display_name": "Python 3",
      "name": "python3"
    },
    "language_info": {
      "name": "python"
    }
  },
  "nbformat": 4,
  "nbformat_minor": 0
}