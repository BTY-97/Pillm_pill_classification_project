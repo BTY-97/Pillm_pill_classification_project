{
  "nbformat": 4,
  "nbformat_minor": 0,
  "metadata": {
    "colab": {
      "provenance": [],
      "machine_shape": "hm"
    },
    "kernelspec": {
      "name": "python3",
      "display_name": "Python 3"
    },
    "language_info": {
      "name": "python"
    },
    "gpuClass": "standard"
  },
  "cells": [
    {
      "cell_type": "code",
      "execution_count": 59,
      "metadata": {
        "id": "AV-chR44Iu4Y"
      },
      "outputs": [],
      "source": [
        "import tensorflow as tf\n",
        "import cv2 as cv\n",
        "import pandas as pd\n",
        "import numpy as np\n",
        "import matplotlib.pyplot as plt\n",
        "from PIL import Image\n",
        "import warnings\n",
        "import re\n",
        "warnings.filterwarnings(\"ignore\")"
      ]
    },
    {
      "cell_type": "code",
      "source": [
        "from DataProcess import csv_process, load_img"
      ],
      "metadata": {
        "id": "Sc8nAeDjZvcX"
      },
      "execution_count": 60,
      "outputs": []
    },
    {
      "cell_type": "code",
      "source": [
        "class PillModel(tf.keras.Model):\n",
        "    \n",
        "    def __init__(self, class_num):\n",
        "        super().__init__()\n",
        "        self.conv1 = tf.keras.layers.Conv2D(96, (11, 11), strides=(4,4), padding='valid', activation='relu', input_shape=(227,227,3))\n",
        "        self.conv2 = tf.keras.layers.Conv2D(256, (5, 5), strides=(1,1), padding='same', activation='relu')\n",
        "        self.conv3 = tf.keras.layers.Conv2D(384, (3, 3), strides=(1,1), padding='same',activation='relu')\n",
        "        self.conv4 = tf.keras.layers.Conv2D(384, (3, 3), strides=(1,1), padding='same',activation='relu')\n",
        "        self.conv5 = tf.keras.layers.Conv2D(256, (3, 3), strides=(1,1), padding='same',activation='relu')\n",
        "        self.bn1 = tf.keras.layers.BatchNormalization()\n",
        "        self.bn2 = tf.keras.layers.BatchNormalization()\n",
        "        self.bn3 = tf.keras.layers.BatchNormalization()\n",
        "        self.bn4 = tf.keras.layers.BatchNormalization()\n",
        "        self.bn5 = tf.keras.layers.BatchNormalization()\n",
        "        self.maxpool = tf.keras.layers.MaxPooling2D((3, 3), strides=(2,2))\n",
        "        self.flatten = tf.keras.layers.Flatten()\n",
        "        self.dense1 = tf.keras.layers.Dense(4096, activation='relu')\n",
        "        self.dense2 = tf.keras.layers.Dense(4096, activation='relu')\n",
        "        self.dense3 = tf.keras.layers.Dense(class_num,activation='softmax')\n",
        "\n",
        "    def call(self, input):\n",
        "        x = self.conv1(input)\n",
        "        x = self.bn1(x)\n",
        "        x = self.maxpool(x)\n",
        "        x = self.conv2(x)\n",
        "        x = self.bn2(x)\n",
        "        x = self.maxpool(x)\n",
        "        x = self.conv3(x)\n",
        "        x = self.bn3(x)\n",
        "        x = self.conv4(x)\n",
        "        x = self.bn4(x)\n",
        "        x = self.conv5(x)\n",
        "        x = self.bn5(x)\n",
        "        x = self.maxpool(x)\n",
        "        x = self.flatten(x)\n",
        "        x = self.dense1(x)\n",
        "        x = self.dense2(x)\n",
        "        x = self.dense3(x)\n",
        "        \n",
        "        return x"
      ],
      "metadata": {
        "id": "YB1Uy_PuI9hl"
      },
      "execution_count": 80,
      "outputs": []
    },
    {
      "cell_type": "code",
      "source": [
        "path = '/content/drive/MyDrive/'"
      ],
      "metadata": {
        "id": "DfoSa3b8R-ju"
      },
      "execution_count": 62,
      "outputs": []
    },
    {
      "cell_type": "code",
      "source": [
        "y1_train, y1_test, y1_val, my_dict = csv_process(path + 'merged_med_4.csv', '의약품제형')\n",
        "y2_train, y2_test, y2_val, jh_dict = csv_process(path + 'merged_med_4.csv', '제형코드명')"
      ],
      "metadata": {
        "id": "ygwY9ykhdQEy"
      },
      "execution_count": 63,
      "outputs": []
    },
    {
      "cell_type": "code",
      "source": [
        "X_train, X_val, X_test = load_img('/content/drive/MyDrive/cropped_pills')"
      ],
      "metadata": {
        "id": "GLkpnVjIGukB"
      },
      "execution_count": 64,
      "outputs": []
    },
    {
      "cell_type": "code",
      "source": [
        "model1 = PillModel(class_num=11)\n",
        "model1.compile(\n",
        "            optimizer=tf.keras.optimizers.Adam(learning_rate=0.001),\n",
        "            loss=tf.keras.losses.SparseCategoricalCrossentropy(),\n",
        "            metrics=['accuracy'])"
      ],
      "metadata": {
        "id": "R0qtStbtdVdS"
      },
      "execution_count": 81,
      "outputs": []
    },
    {
      "cell_type": "code",
      "source": [
        "model1.build((None,227,227,3))"
      ],
      "metadata": {
        "id": "nvLmeZdbkPbm"
      },
      "execution_count": 82,
      "outputs": []
    },
    {
      "cell_type": "code",
      "source": [
        "model1.summary()"
      ],
      "metadata": {
        "colab": {
          "base_uri": "https://localhost:8080/"
        },
        "id": "Gjqx70goy3t_",
        "outputId": "558da504-e9dd-4f16-d24a-d2a2bd4dfbc9"
      },
      "execution_count": 83,
      "outputs": [
        {
          "output_type": "stream",
          "name": "stdout",
          "text": [
            "Model: \"pill_model_15\"\n",
            "_________________________________________________________________\n",
            " Layer (type)                Output Shape              Param #   \n",
            "=================================================================\n",
            " conv2d_63 (Conv2D)          multiple                  34944     \n",
            "                                                                 \n",
            " conv2d_64 (Conv2D)          multiple                  614656    \n",
            "                                                                 \n",
            " conv2d_65 (Conv2D)          multiple                  885120    \n",
            "                                                                 \n",
            " conv2d_66 (Conv2D)          multiple                  1327488   \n",
            "                                                                 \n",
            " conv2d_67 (Conv2D)          multiple                  884992    \n",
            "                                                                 \n",
            " batch_normalization_22 (Bat  multiple                 384       \n",
            " chNormalization)                                                \n",
            "                                                                 \n",
            " batch_normalization_23 (Bat  multiple                 1024      \n",
            " chNormalization)                                                \n",
            "                                                                 \n",
            " batch_normalization_24 (Bat  multiple                 1536      \n",
            " chNormalization)                                                \n",
            "                                                                 \n",
            " batch_normalization_25 (Bat  multiple                 1536      \n",
            " chNormalization)                                                \n",
            "                                                                 \n",
            " batch_normalization_26 (Bat  multiple                 1024      \n",
            " chNormalization)                                                \n",
            "                                                                 \n",
            " max_pooling2d_15 (MaxPoolin  multiple                 0         \n",
            " g2D)                                                            \n",
            "                                                                 \n",
            " flatten_15 (Flatten)        multiple                  0         \n",
            "                                                                 \n",
            " dense_30 (Dense)            multiple                  37752832  \n",
            "                                                                 \n",
            " dense_31 (Dense)            multiple                  16781312  \n",
            "                                                                 \n",
            " dense_32 (Dense)            multiple                  45067     \n",
            "                                                                 \n",
            "=================================================================\n",
            "Total params: 58,331,915\n",
            "Trainable params: 58,329,163\n",
            "Non-trainable params: 2,752\n",
            "_________________________________________________________________\n"
          ]
        }
      ]
    },
    {
      "cell_type": "code",
      "source": [
        "history1 = model1.fit(X_train, y1_train, epochs=100, batch_size=32, validation_data=(X_val, y1_val))"
      ],
      "metadata": {
        "id": "ZAZeu1NkeMec"
      },
      "execution_count": null,
      "outputs": []
    },
    {
      "cell_type": "code",
      "source": [
        "model1.predict(X_test,y1_test)"
      ],
      "metadata": {
        "id": "qM5hEi-VdadH"
      },
      "execution_count": null,
      "outputs": []
    },
    {
      "cell_type": "code",
      "source": [
        "model2 = PillModel(class_num=4)"
      ],
      "metadata": {
        "id": "EkmBFbOAeS-U"
      },
      "execution_count": null,
      "outputs": []
    },
    {
      "cell_type": "code",
      "source": [
        "model2.compile(\n",
        "            optimizer=tf.keras.optimizers.Adam(learning_rate=0.001),\n",
        "            loss=tf.keras.losses.SparseCategoricalCrossentropy(),\n",
        "            metrics=['accuracy'])"
      ],
      "metadata": {
        "id": "IY9UzU6QeTAc"
      },
      "execution_count": null,
      "outputs": []
    },
    {
      "cell_type": "code",
      "source": [
        "history2 = model2.fit(X_train, y2_train, epochs=100, batch_size=32, validation_data=(X_val, y1_val))"
      ],
      "metadata": {
        "id": "-iV58E6OeTCU"
      },
      "execution_count": null,
      "outputs": []
    },
    {
      "cell_type": "code",
      "source": [
        "model2.predict(X_test,y1_test)"
      ],
      "metadata": {
        "id": "kavVgrvWeTEZ"
      },
      "execution_count": null,
      "outputs": []
    },
    {
      "cell_type": "code",
      "source": [],
      "metadata": {
        "id": "FsJ6KTcC1QHr"
      },
      "execution_count": null,
      "outputs": []
    }
  ]
}