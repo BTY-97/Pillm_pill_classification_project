{
 "cells": [
  {
   "cell_type": "code",
   "execution_count": 8,
   "id": "b833ba63",
   "metadata": {},
   "outputs": [],
   "source": [
    "from sqlalchemy.ext.declarative import declarative_base\n",
    "from sqlalchemy.orm.session import Session, sessionmaker\n",
    "from sqlalchemy import create_engine\n",
    "from sqlalchemy.schema import MetaData, Table, Column, ForeignKey\n",
    "from sqlalchemy.types import Integer, Text\n",
    "from sqlalchemy.orm import relationship"
   ]
  },
  {
   "cell_type": "code",
   "execution_count": null,
   "id": "0e847404",
   "metadata": {},
   "outputs": [],
   "source": [
    "base.metadata.clear(), engine.dispose()"
   ]
  },
  {
   "cell_type": "code",
   "execution_count": 208,
   "id": "dc258ce9",
   "metadata": {},
   "outputs": [],
   "source": [
    "base.metadata.clear(), engine.dispose()\n",
    "engine = create_engine('sqlite:///C:/Users/KimYM/Documents/Medicine/medicine_db.db')\n",
    "meta = MetaData(engine)\n",
    "base = declarative_base()"
   ]
  },
  {
   "cell_type": "code",
   "execution_count": 370,
   "id": "dd543bbe",
   "metadata": {},
   "outputs": [],
   "source": [
    "base.metadata.clear(), engine.dispose()\n",
    "engine = create_engine('sqlite:///:memory:')\n",
    "meta = MetaData(engine)\n",
    "base = declarative_base()"
   ]
  },
  {
   "cell_type": "code",
   "execution_count": 371,
   "id": "5753e332",
   "metadata": {
    "scrolled": true
   },
   "outputs": [],
   "source": [
    "class Medicine(base):\n",
    "    __tablename__ = 'T_Medicine'\n",
    "    \n",
    "    name = Column('name', Text, primary_key=True, autoincrement=False)\n",
    "    content_url = Column('content_url', Text)\n",
    "    identifier_front = Column('identifier_front', Text)\n",
    "    identifier_back = Column('identifier_back', Text)\n",
    "    color_front = Column('color_front', Text)\n",
    "    color_back = Column('color_back', Text)\n",
    "    shape = Column('shape', Text)\n",
    "    form_code = Column('form_code', Text)\n",
    "    image_url = Column('image_url', Text)\n",
    "    logo_num = Column('logo_num', ForeignKey('T_Logo.logo_num'), nullable=True)\n",
    "    company_name = Column('company_name', ForeignKey('T_Company.name'), nullable=False)\n",
    "    \n",
    "    company = relationship('Company', back_populates='medicines')\n",
    "    logo = relationship('Logo', back_populates='medicines')\n",
    "    \n",
    "    def __init__(self, name, company, content_url=None, iden_front=None, iden_back=None, form_code=None,\n",
    "                 image_url=None, color=None, shape=None,logo_num=None):\n",
    "        self.name = name\n",
    "        self.content_url = content_url\n",
    "        self.identifier_front = iden_front\n",
    "        self.identifier_back = iden_back\n",
    "        self.color = color\n",
    "        self.shape = shape\n",
    "        self.form_code = form_code\n",
    "        self.image_url = image_url\n",
    "        self.logo_num = logo_num\n",
    "        self.company_name = company\n",
    "\n",
    "        session.add(self)\n",
    "        session.commit()\n",
    "        \n",
    "        if logo_num is not None:\n",
    "            if session.query(Logo.logo_num).filter(Logo.logo_num == logo_num).first() is None:\n",
    "                print(self.name,':There is no logo image')\n",
    "                self.logo_num = None\n",
    "        if session.query(Company.name).filter(Company.name == company).first() is None:\n",
    "            Company(company)\n",
    "        \n",
    "    def info(self):\n",
    "        print('제조사:', self.company_name)\n",
    "        print('품목명:', self.name)\n",
    "        print('식별문자앞:', self.identifier_front)\n",
    "        print('식별문자뒤:', self.identifier_back)\n",
    "        print('색상:', self.color)\n",
    "        print('모양:', self.shape)\n",
    "        print('제형코드이름:', self.form_code)\n",
    "        print('로고번호:', self.logo_num)\n",
    "        print('상세페이지:', self.content_url)\n",
    "        print()\n",
    "        \n",
    "    \n",
    "class Company(base):\n",
    "    __tablename__ = 'T_Company'\n",
    "    \n",
    "    name = Column('name', Text, primary_key=True, autoincrement=False)\n",
    "    \n",
    "    medicines = relationship('Medicine', back_populates='company', uselist=True)\n",
    "    \n",
    "    def __init__(self, name):\n",
    "        self.name = name\n",
    "        session.add(self)\n",
    "        session.commit()\n",
    "\n",
    "    def get_medicines(self):\n",
    "        medi = list()\n",
    "        print('제조사:', self.name)\n",
    "        for medicine in self.medicines:\n",
    "            print('    제품명:', medicine.name)\n",
    "        print()\n",
    "            \n",
    "class Logo(base):\n",
    "    __tablename__ = 'T_Logo'\n",
    "    \n",
    "    logo_num = Column('logo_num', Text, primary_key=True, autoincrement=False)\n",
    "    image_path = Column('image_path', Text, nullable=False)\n",
    "    \n",
    "    medicines = relationship('Medicine', back_populates='logo', uselist=True)\n",
    "    \n",
    "    def __init__(self, logo_num, path):\n",
    "        self.logo_num = logo_num\n",
    "        self.image_path = path\n",
    "        session.add(self)\n",
    "        session.commit()\n",
    "        \n",
    "    def get_medicines(self):\n",
    "        medi = list()\n",
    "        print('로고번호:', self.logo_num)\n",
    "        print('이 로고를 사용하는 제품들')\n",
    "        for medicine in self.medicines:\n",
    "            print('    제품명:', medicine.name)\n",
    "        print('이미지:', self.image_path)\n",
    "        print()"
   ]
  },
  {
   "cell_type": "code",
   "execution_count": 372,
   "id": "5a53ed07",
   "metadata": {
    "scrolled": true
   },
   "outputs": [],
   "source": [
    "Session = sessionmaker(engine)\n",
    "session = Session()\n",
    "base.metadata.create_all(engine)"
   ]
  },
  {
   "cell_type": "code",
   "execution_count": 373,
   "id": "e62a4cec",
   "metadata": {},
   "outputs": [
    {
     "data": {
      "text/plain": [
       "<__main__.Logo at 0x1455d4a9430>"
      ]
     },
     "execution_count": 373,
     "metadata": {},
     "output_type": "execute_result"
    }
   ],
   "source": [
    "Logo(1, 'aaa')\n",
    "Logo(2, 'bbb')\n",
    "Logo(3, 'ccc')"
   ]
  },
  {
   "cell_type": "code",
   "execution_count": 374,
   "id": "0d2c651e",
   "metadata": {},
   "outputs": [
    {
     "name": "stdout",
     "output_type": "stream",
     "text": [
      "name2 :There is no logo image\n"
     ]
    },
    {
     "data": {
      "text/plain": [
       "<__main__.Medicine at 0x1455e47abe0>"
      ]
     },
     "execution_count": 374,
     "metadata": {},
     "output_type": "execute_result"
    }
   ],
   "source": [
    "Medicine('name1', 'company2', logo_num=2)\n",
    "Medicine('name2', 'company1', logo_num=4)\n",
    "Medicine('name3', 'company3', logo_num=1)\n",
    "Medicine('name4', 'company4', logo_num=3)\n",
    "Medicine('name5', 'company1', logo_num=2)\n",
    "Medicine('name6', 'company3', logo_num=1)\n",
    "Medicine('name7', 'company2', logo_num=2)\n",
    "Medicine('name8', 'company1')"
   ]
  },
  {
   "cell_type": "code",
   "execution_count": 375,
   "id": "260e47d7",
   "metadata": {
    "scrolled": true
   },
   "outputs": [
    {
     "name": "stdout",
     "output_type": "stream",
     "text": [
      "제조사: company2\n",
      "    제품명: name1\n",
      "    제품명: name7\n",
      "\n",
      "제조사: company1\n",
      "    제품명: name2\n",
      "    제품명: name5\n",
      "    제품명: name8\n",
      "\n",
      "제조사: company3\n",
      "    제품명: name3\n",
      "    제품명: name6\n",
      "\n",
      "제조사: company4\n",
      "    제품명: name4\n",
      "\n"
     ]
    }
   ],
   "source": [
    "for _ in session.query(Company).all():\n",
    "    _.get_medicines()"
   ]
  },
  {
   "cell_type": "code",
   "execution_count": 376,
   "id": "e6957212",
   "metadata": {
    "scrolled": true
   },
   "outputs": [
    {
     "name": "stdout",
     "output_type": "stream",
     "text": [
      "로고번호: 1\n",
      "이 로고를 사용하는 제품들\n",
      "    제품명: name3\n",
      "    제품명: name6\n",
      "이미지: aaa\n",
      "\n",
      "로고번호: 2\n",
      "이 로고를 사용하는 제품들\n",
      "    제품명: name1\n",
      "    제품명: name5\n",
      "    제품명: name7\n",
      "이미지: bbb\n",
      "\n",
      "로고번호: 3\n",
      "이 로고를 사용하는 제품들\n",
      "    제품명: name4\n",
      "이미지: ccc\n",
      "\n"
     ]
    }
   ],
   "source": [
    "for _ in session.query(Logo).all():\n",
    "    _.get_medicines()"
   ]
  },
  {
   "cell_type": "code",
   "execution_count": 4,
   "id": "59c5ed65",
   "metadata": {},
   "outputs": [],
   "source": [
    "import pandas as pd"
   ]
  },
  {
   "cell_type": "code",
   "execution_count": 14,
   "id": "f2e61cac",
   "metadata": {
    "scrolled": true
   },
   "outputs": [],
   "source": [
    "medicine = pd.read_csv('C:/Users/KimYM/Documents/카카오톡 받은 파일/merged_med.csv')"
   ]
  },
  {
   "cell_type": "code",
   "execution_count": 15,
   "id": "6a7bda3f",
   "metadata": {
    "scrolled": true
   },
   "outputs": [
    {
     "name": "stdout",
     "output_type": "stream",
     "text": [
      "<class 'pandas.core.frame.DataFrame'>\n",
      "RangeIndex: 18776 entries, 0 to 18775\n",
      "Data columns (total 31 columns):\n",
      " #   Column          Non-Null Count  Dtype \n",
      "---  ------          --------------  ----- \n",
      " 0   복사품목명           18776 non-null  object\n",
      " 1   품목일련번호          18776 non-null  int64 \n",
      " 2   품목명             18776 non-null  object\n",
      " 3   업소일련번호          18776 non-null  int64 \n",
      " 4   업소명             18776 non-null  object\n",
      " 5   성상              18776 non-null  object\n",
      " 6   큰제품이미지          18776 non-null  object\n",
      " 7   표시앞             18775 non-null  object\n",
      " 8   표시뒤             18774 non-null  object\n",
      " 9   의약품제형           18776 non-null  object\n",
      " 10  색상앞             18776 non-null  object\n",
      " 11  색상뒤             18776 non-null  object\n",
      " 12  분할선앞            18776 non-null  object\n",
      " 13  분할선뒤            18776 non-null  object\n",
      " 14  크기장축            18776 non-null  object\n",
      " 15  크기단축            18776 non-null  object\n",
      " 16  크기두께            18776 non-null  object\n",
      " 17  이미지생성일자(약학정보원)  18776 non-null  int64 \n",
      " 18  분류번호            18776 non-null  object\n",
      " 19  분류명             18776 non-null  object\n",
      " 20  전문일반구분          18776 non-null  object\n",
      " 21  품목허가일자          18776 non-null  int64 \n",
      " 22  제형코드명           18776 non-null  object\n",
      " 23  표기내용앞           18776 non-null  object\n",
      " 24  표기내용뒤           18776 non-null  object\n",
      " 25  표기이미지앞          18776 non-null  object\n",
      " 26  표기이미지뒤          18776 non-null  object\n",
      " 27  표기코드앞           18776 non-null  object\n",
      " 28  표기코드뒤           18776 non-null  object\n",
      " 29  변경일자            18776 non-null  object\n",
      " 30  url             18776 non-null  object\n",
      "dtypes: int64(4), object(27)\n",
      "memory usage: 4.4+ MB\n"
     ]
    }
   ],
   "source": [
    "medicine.info()"
   ]
  },
  {
   "cell_type": "code",
   "execution_count": 17,
   "id": "9edda27d",
   "metadata": {
    "scrolled": true
   },
   "outputs": [
    {
     "data": {
      "text/html": [
       "<div>\n",
       "<style scoped>\n",
       "    .dataframe tbody tr th:only-of-type {\n",
       "        vertical-align: middle;\n",
       "    }\n",
       "\n",
       "    .dataframe tbody tr th {\n",
       "        vertical-align: top;\n",
       "    }\n",
       "\n",
       "    .dataframe thead th {\n",
       "        text-align: right;\n",
       "    }\n",
       "</style>\n",
       "<table border=\"1\" class=\"dataframe\">\n",
       "  <thead>\n",
       "    <tr style=\"text-align: right;\">\n",
       "      <th></th>\n",
       "      <th>복사품목명</th>\n",
       "      <th>품목일련번호</th>\n",
       "      <th>품목명</th>\n",
       "      <th>업소일련번호</th>\n",
       "      <th>업소명</th>\n",
       "      <th>성상</th>\n",
       "      <th>큰제품이미지</th>\n",
       "      <th>표시앞</th>\n",
       "      <th>표시뒤</th>\n",
       "      <th>의약품제형</th>\n",
       "      <th>...</th>\n",
       "      <th>품목허가일자</th>\n",
       "      <th>제형코드명</th>\n",
       "      <th>표기내용앞</th>\n",
       "      <th>표기내용뒤</th>\n",
       "      <th>표기이미지앞</th>\n",
       "      <th>표기이미지뒤</th>\n",
       "      <th>표기코드앞</th>\n",
       "      <th>표기코드뒤</th>\n",
       "      <th>변경일자</th>\n",
       "      <th>url</th>\n",
       "    </tr>\n",
       "  </thead>\n",
       "  <tbody>\n",
       "    <tr>\n",
       "      <th>8343</th>\n",
       "      <td>센나르정</td>\n",
       "      <td>200101225</td>\n",
       "      <td>센나르정(나프록센나트륨)</td>\n",
       "      <td>19550015</td>\n",
       "      <td>(주)동구바이오제약</td>\n",
       "      <td>엷은청색의원형필름코팅정제</td>\n",
       "      <td>https://nedrug.mfds.go.kr/pbp/cmn/itemImageDow...</td>\n",
       "      <td>마크</td>\n",
       "      <td>NaN</td>\n",
       "      <td>원형</td>\n",
       "      <td>...</td>\n",
       "      <td>20010419</td>\n",
       "      <td>필름코팅정</td>\n",
       "      <td>D</td>\n",
       "      <td>-</td>\n",
       "      <td>https://nedrug.mfds.go.kr/pbp/cmn/itemImageDow...</td>\n",
       "      <td>-</td>\n",
       "      <td>r0026</td>\n",
       "      <td>-</td>\n",
       "      <td>-</td>\n",
       "      <td>http://medinavi.co.kr/pill/p/200101225.html</td>\n",
       "    </tr>\n",
       "    <tr>\n",
       "      <th>15266</th>\n",
       "      <td>리코나졸정</td>\n",
       "      <td>201603868</td>\n",
       "      <td>리코나졸정(플루코나졸)</td>\n",
       "      <td>20040011</td>\n",
       "      <td>(주)씨티씨바이오</td>\n",
       "      <td>분홍색의장방형정제</td>\n",
       "      <td>https://nedrug.mfds.go.kr/pbp/cmn/itemImageDow...</td>\n",
       "      <td>150</td>\n",
       "      <td>NaN</td>\n",
       "      <td>타원형</td>\n",
       "      <td>...</td>\n",
       "      <td>20160624</td>\n",
       "      <td>나정</td>\n",
       "      <td>-</td>\n",
       "      <td>-</td>\n",
       "      <td>-</td>\n",
       "      <td>-</td>\n",
       "      <td>-</td>\n",
       "      <td>-</td>\n",
       "      <td>20210625</td>\n",
       "      <td>http://medinavi.co.kr/pill/p/201603868.html</td>\n",
       "    </tr>\n",
       "  </tbody>\n",
       "</table>\n",
       "<p>2 rows × 31 columns</p>\n",
       "</div>"
      ],
      "text/plain": [
       "       복사품목명     품목일련번호            품목명    업소일련번호         업소명             성상  \\\n",
       "8343    센나르정  200101225  센나르정(나프록센나트륨)  19550015  (주)동구바이오제약  엷은청색의원형필름코팅정제   \n",
       "15266  리코나졸정  201603868   리코나졸정(플루코나졸)  20040011   (주)씨티씨바이오      분홍색의장방형정제   \n",
       "\n",
       "                                                  큰제품이미지  표시앞  표시뒤 의약품제형  ...  \\\n",
       "8343   https://nedrug.mfds.go.kr/pbp/cmn/itemImageDow...   마크  NaN    원형  ...   \n",
       "15266  https://nedrug.mfds.go.kr/pbp/cmn/itemImageDow...  150  NaN   타원형  ...   \n",
       "\n",
       "         품목허가일자  제형코드명 표기내용앞 표기내용뒤  \\\n",
       "8343   20010419  필름코팅정     D     -   \n",
       "15266  20160624     나정     -     -   \n",
       "\n",
       "                                                  표기이미지앞 표기이미지뒤  표기코드앞  표기코드뒤  \\\n",
       "8343   https://nedrug.mfds.go.kr/pbp/cmn/itemImageDow...      -  r0026      -   \n",
       "15266                                                  -      -      -      -   \n",
       "\n",
       "           변경일자                                          url  \n",
       "8343          -  http://medinavi.co.kr/pill/p/200101225.html  \n",
       "15266  20210625  http://medinavi.co.kr/pill/p/201603868.html  \n",
       "\n",
       "[2 rows x 31 columns]"
      ]
     },
     "execution_count": 17,
     "metadata": {},
     "output_type": "execute_result"
    }
   ],
   "source": [
    "medicine[medicine.표시뒤.isna()]"
   ]
  },
  {
   "cell_type": "code",
   "execution_count": 19,
   "id": "75d19ad4",
   "metadata": {},
   "outputs": [
    {
     "data": {
      "text/plain": [
       "-            9443\n",
       "분할선          1457\n",
       "마크            481\n",
       "10            256\n",
       "5             210\n",
       "             ... \n",
       "S분할선V           1\n",
       "DKP             1\n",
       "RZC             1\n",
       "ΛSF분할선200       1\n",
       "ABP             1\n",
       "Name: 표시뒤, Length: 2480, dtype: int64"
      ]
     },
     "execution_count": 19,
     "metadata": {},
     "output_type": "execute_result"
    }
   ],
   "source": [
    "medicine.표시뒤.value_counts()"
   ]
  },
  {
   "cell_type": "code",
   "execution_count": null,
   "id": "fc8c6263",
   "metadata": {},
   "outputs": [],
   "source": []
  }
 ],
 "metadata": {
  "kernelspec": {
   "display_name": "Python 3 (ipykernel)",
   "language": "python",
   "name": "python3"
  },
  "language_info": {
   "codemirror_mode": {
    "name": "ipython",
    "version": 3
   },
   "file_extension": ".py",
   "mimetype": "text/x-python",
   "name": "python",
   "nbconvert_exporter": "python",
   "pygments_lexer": "ipython3",
   "version": "3.9.12"
  }
 },
 "nbformat": 4,
 "nbformat_minor": 5
}
