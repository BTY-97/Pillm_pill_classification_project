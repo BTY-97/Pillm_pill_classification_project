{
 "cells": [
  {
   "cell_type": "code",
   "execution_count": 2,
   "id": "b833ba63",
   "metadata": {},
   "outputs": [],
   "source": [
    "from sqlalchemy.ext.declarative import declarative_base\n",
    "from sqlalchemy.orm.session import Session, sessionmaker\n",
    "from sqlalchemy import create_engine\n",
    "from sqlalchemy.schema import MetaData, Table, Column, ForeignKey\n",
    "from sqlalchemy.types import Integer, Text\n",
    "from sqlalchemy.orm import relationship"
   ]
  },
  {
   "cell_type": "code",
   "execution_count": 1,
   "id": "59c5ed65",
   "metadata": {},
   "outputs": [],
   "source": [
    "import pandas as pd\n",
    "\n",
    "medicine = pd.read_csv('C:/Users/KimYM/Documents/카카오톡 받은 파일/merged_med.csv')\n",
    "medicine.fillna('-', inplace=True)\n",
    "medicine.replace('-', None,inplace=True)"
   ]
  },
  {
   "cell_type": "code",
   "execution_count": null,
   "id": "0e847404",
   "metadata": {
    "scrolled": false
   },
   "outputs": [],
   "source": [
    "base.metadata.clear(), engine.dispose()"
   ]
  },
  {
   "cell_type": "code",
   "execution_count": 3,
   "id": "dc258ce9",
   "metadata": {},
   "outputs": [],
   "source": [
    "engine = create_engine('sqlite:///C:/Users/KimYM/Documents/Medicine/medicine_db.db')\n",
    "meta = MetaData(engine)\n",
    "base = declarative_base()"
   ]
  },
  {
   "cell_type": "code",
   "execution_count": null,
   "id": "dd543bbe",
   "metadata": {},
   "outputs": [],
   "source": [
    "engine = create_engine('sqlite:///:memory:')\n",
    "meta = MetaData(engine)\n",
    "base = declarative_base()"
   ]
  },
  {
   "cell_type": "code",
   "execution_count": 4,
   "id": "5753e332",
   "metadata": {
    "scrolled": true
   },
   "outputs": [],
   "source": [
    "class Medicine(base):\n",
    "    __tablename__ = 'T_Medicine'\n",
    "    \n",
    "    pk = Column('pk', Integer, primary_key=True)\n",
    "    name = Column('name', Text)\n",
    "    content_url = Column('content_url', Text)\n",
    "    identifier_front = Column('identifier_front', Text)\n",
    "    identifier_back = Column('identifier_back', Text)\n",
    "    color_front = Column('color_front', Text)\n",
    "    color_back = Column('color_back', Text)\n",
    "    shape = Column('shape', Text)\n",
    "    form_code = Column('form_code', Text)\n",
    "    image_url = Column('image_url', Text)\n",
    "    company_name = Column('company_name', ForeignKey('T_Company.name'), nullable=False)\n",
    "    \n",
    "    company = relationship('Company', back_populates='medicines')\n",
    "    logos = relationship('Logo_Medi', back_populates='medicine', uselist=True)\n",
    "    \n",
    "    def __init__(self, name, company, content_url=None, iden_front=None, iden_back=None, form_code=None,\n",
    "                 image_url=None, color_front=None, color_back=None, shape=None,logos=[]):\n",
    "        self.name = name\n",
    "        self.content_url = content_url\n",
    "        self.identifier_front = iden_front\n",
    "        self.identifier_back = iden_back\n",
    "        self.color_front = color_front\n",
    "        self.color_back = color_back\n",
    "        self.shape = shape\n",
    "        self.form_code = form_code\n",
    "        self.image_url = image_url\n",
    "        self.company_name = company\n",
    "\n",
    "        session.add(self)\n",
    "        session.commit()\n",
    "        \n",
    "        if len(logos):\n",
    "            for logo_num in logos:\n",
    "                if session.query(Logo.logo_num).filter(Logo.logo_num == logo_num).first() is not None:\n",
    "                    new_link = Logo_Medi(Lfk=logo_num, Mfk=self.pk)\n",
    "                    session.add(new_link)\n",
    "                    session.commit()\n",
    "        session.add(self)\n",
    "        session.commit()\n",
    "        \n",
    "        if session.query(Company.name).filter(Company.name == company).first() is None:\n",
    "            Company(company)\n",
    "        \n",
    "    def info(self):\n",
    "        print('제조사:', self.company_name)\n",
    "        print('품목명:', self.name)\n",
    "        print('식별문자앞:', self.identifier_front)\n",
    "        print('식별문자뒤:', self.identifier_back)\n",
    "        print('색상앞:', self.color_front)\n",
    "        print('색상뒤:', self.color_back)\n",
    "        print('모양:', self.shape)\n",
    "        print('제형코드이름:', self.form_code)\n",
    "        for i, _ in enumerate(self.logos):\n",
    "            print(f'로고번호{i}:', _.Lfk)\n",
    "        print('상세페이지:', self.content_url)\n",
    "        print()\n",
    "        \n",
    "    \n",
    "class Company(base):\n",
    "    __tablename__ = 'T_Company'\n",
    "    \n",
    "    name = Column('name', Text, primary_key=True, autoincrement=False)\n",
    "    \n",
    "    medicines = relationship('Medicine', back_populates='company', uselist=True)\n",
    "    \n",
    "    def __init__(self, name):\n",
    "        self.name = name\n",
    "        session.add(self)\n",
    "        session.commit()\n",
    "\n",
    "    def get_medicines(self):\n",
    "        medi = list()\n",
    "        print('제조사:', self.name)\n",
    "        for medicine in self.medicines:\n",
    "            print('    제품명:', medicine.name)\n",
    "        print()\n",
    "            \n",
    "class Logo(base):\n",
    "    __tablename__ = 'T_Logo'\n",
    "    \n",
    "    logo_num = Column('logo_num', Text, primary_key=True, autoincrement=False)\n",
    "    image_path = Column('image_path', Text, nullable=False)\n",
    "    \n",
    "    medicines = relationship('Logo_Medi', back_populates='logo', uselist=True)\n",
    "    \n",
    "    def __init__(self, logo_num, path):\n",
    "        self.logo_num = logo_num\n",
    "        self.image_path = path\n",
    "        session.add(self)\n",
    "        session.commit()\n",
    "        \n",
    "    def get_medicines(self):\n",
    "        medi = list()\n",
    "        print('로고번호:', self.logo_num)\n",
    "        print('이 로고를 사용하는 제품들')\n",
    "        for medicine in self.medicines:\n",
    "            m = session.query(Medicine).filter(Medicine.pk == medicine.Mfk).first()\n",
    "            print('    제품명:', medicine.pk)\n",
    "        print('이미지:', self.image_path)\n",
    "        print()\n",
    "        \n",
    "class Logo_Medi(base):\n",
    "    __tablename__ = 'T_Logo_Medi'\n",
    "    \n",
    "    pk = Column('pk', Integer, primary_key=True)\n",
    "    Lfk = Column('Lfk', Text, ForeignKey('T_Logo.logo_num'), nullable=False)\n",
    "    Mfk = Column('Mfk', Integer, ForeignKey('T_Medicine.pk'), nullable=False)\n",
    "    \n",
    "    logo = relationship('Logo', back_populates='medicines')\n",
    "    medicine = relationship('Medicine', back_populates='logos')"
   ]
  },
  {
   "cell_type": "code",
   "execution_count": 5,
   "id": "5a53ed07",
   "metadata": {
    "scrolled": true
   },
   "outputs": [],
   "source": [
    "Session = sessionmaker(engine)\n",
    "session = Session()\n",
    "base.metadata.create_all(engine)"
   ]
  },
  {
   "cell_type": "code",
   "execution_count": 6,
   "id": "7911aad4",
   "metadata": {},
   "outputs": [],
   "source": [
    "import os"
   ]
  },
  {
   "cell_type": "code",
   "execution_count": 7,
   "id": "99d12ba8",
   "metadata": {},
   "outputs": [],
   "source": [
    "path = './logo_num_image/'\n",
    "file_list = os.listdir(path)\n",
    "\n",
    "for file in file_list:\n",
    "    logo_num = file[:5]\n",
    "    Logo(logo_num, path+file)"
   ]
  },
  {
   "cell_type": "code",
   "execution_count": 8,
   "id": "53c0c5e5",
   "metadata": {},
   "outputs": [],
   "source": [
    "for i, pill_name in enumerate(medicine.품목명):\n",
    "    logos = list()\n",
    "    if medicine.표기코드앞[i] != None:\n",
    "        logos.append(medicine.표기코드앞[i])\n",
    "        \n",
    "    if medicine.표기코드뒤[i] != None:\n",
    "        logos.append(medicine.표기코드뒤[i])\n",
    "        \n",
    "    try:\n",
    "        Medicine(pill_name, medicine.업소명[i], content_url=medicine.url[i],\n",
    "             iden_front=medicine.표시앞[i], iden_back=medicine.표시뒤[i], form_code=medicine.제형코드명[i],\n",
    "             image_url='./medicine_image/'+str(medicine.품목일련번호[i])+'.jpg',\n",
    "             color_front=medicine.색상앞[i], color_back=medicine.색상뒤[i],\n",
    "             shape=medicine.의약품제형[i],logos=logos)\n",
    "    except:\n",
    "        print(pill_name)\n",
    "        raise"
   ]
  },
  {
   "cell_type": "code",
   "execution_count": null,
   "id": "60a44479",
   "metadata": {
    "scrolled": true
   },
   "outputs": [],
   "source": [
    "session.query(Logo.logo_num).filter(Logo.logo_num=='').first() is None"
   ]
  },
  {
   "cell_type": "code",
   "execution_count": null,
   "id": "e16faa11",
   "metadata": {},
   "outputs": [],
   "source": [
    "len(session.query(Medicine).all())"
   ]
  },
  {
   "cell_type": "code",
   "execution_count": null,
   "id": "7140a2e5",
   "metadata": {},
   "outputs": [],
   "source": [
    "for c in session.query(Company).all()[:30]:\n",
    "    c.get_medicines()\n"
   ]
  },
  {
   "cell_type": "code",
   "execution_count": null,
   "id": "809392bc",
   "metadata": {
    "scrolled": true
   },
   "outputs": [],
   "source": [
    "file_list[0][:5]"
   ]
  },
  {
   "cell_type": "code",
   "execution_count": null,
   "id": "ab408990",
   "metadata": {
    "scrolled": true
   },
   "outputs": [],
   "source": [
    "Medicine('name1', 'company2', logos=['r0001'])"
   ]
  },
  {
   "cell_type": "code",
   "execution_count": null,
   "id": "d3171340",
   "metadata": {},
   "outputs": [],
   "source": [
    "for logo in session.query(Medicine).first().logos:\n",
    "    print(logo.Lfk)"
   ]
  },
  {
   "cell_type": "code",
   "execution_count": null,
   "id": "c79f0ab5",
   "metadata": {},
   "outputs": [],
   "source": [
    "session.query(Medicine).first().info()"
   ]
  },
  {
   "cell_type": "code",
   "execution_count": null,
   "id": "4d20fe37",
   "metadata": {},
   "outputs": [],
   "source": [
    "session.query(Company).first().get_medicines()"
   ]
  },
  {
   "cell_type": "code",
   "execution_count": null,
   "id": "0d2c651e",
   "metadata": {},
   "outputs": [],
   "source": [
    "Medicine('name1', 'company2', logo_num='r0001')\n",
    "Medicine('name2', 'company1', logo_num=4)\n",
    "Medicine('name3', 'company3', logo_num=1)\n",
    "Medicine('name4', 'company4', logo_num=3)\n",
    "Medicine('name5', 'company1', logo_num=2)\n",
    "Medicine('name6', 'company3', logo_num=1)\n",
    "Medicine('name7', 'company2', logo_num=2)\n",
    "Medicine('name8', 'company1')"
   ]
  },
  {
   "cell_type": "code",
   "execution_count": null,
   "id": "260e47d7",
   "metadata": {
    "scrolled": true
   },
   "outputs": [],
   "source": [
    "for _ in session.query(Company).all():\n",
    "    _.get_medicines()"
   ]
  },
  {
   "cell_type": "code",
   "execution_count": null,
   "id": "e6957212",
   "metadata": {
    "scrolled": true
   },
   "outputs": [],
   "source": [
    "for _ in session.query(Logo).all():\n",
    "    _.get_medicines()"
   ]
  },
  {
   "cell_type": "code",
   "execution_count": null,
   "id": "9edda27d",
   "metadata": {
    "scrolled": true
   },
   "outputs": [],
   "source": [
    "medicine[medicine.표시뒤.isna()]"
   ]
  },
  {
   "cell_type": "code",
   "execution_count": null,
   "id": "75d19ad4",
   "metadata": {},
   "outputs": [],
   "source": [
    "medicine.표시뒤.value_counts()"
   ]
  },
  {
   "cell_type": "code",
   "execution_count": null,
   "id": "fc8c6263",
   "metadata": {},
   "outputs": [],
   "source": [
    "def __init__(self, name, company, content_url=None, iden_front=None, iden_back=None, form_code=None,\n",
    "                 image_url=None, color=None, shape=None,logo_num=None):"
   ]
  },
  {
   "cell_type": "code",
   "execution_count": null,
   "id": "9748bdbc",
   "metadata": {
    "scrolled": true
   },
   "outputs": [],
   "source": [
    "medicine.info()"
   ]
  },
  {
   "cell_type": "code",
   "execution_count": null,
   "id": "4bfe0306",
   "metadata": {
    "scrolled": true
   },
   "outputs": [],
   "source": [
    "medicine.표기코드앞[245]"
   ]
  },
  {
   "cell_type": "code",
   "execution_count": null,
   "id": "7386e1d6",
   "metadata": {
    "scrolled": true
   },
   "outputs": [],
   "source": [
    "for pill in medicine.품목명:\n",
    "    print(pill)"
   ]
  },
  {
   "cell_type": "code",
   "execution_count": null,
   "id": "eceb1d63",
   "metadata": {},
   "outputs": [],
   "source": []
  }
 ],
 "metadata": {
  "kernelspec": {
   "display_name": "Python 3 (ipykernel)",
   "language": "python",
   "name": "python3"
  },
  "language_info": {
   "codemirror_mode": {
    "name": "ipython",
    "version": 3
   },
   "file_extension": ".py",
   "mimetype": "text/x-python",
   "name": "python",
   "nbconvert_exporter": "python",
   "pygments_lexer": "ipython3",
   "version": "3.9.12"
  }
 },
 "nbformat": 4,
 "nbformat_minor": 5
}
