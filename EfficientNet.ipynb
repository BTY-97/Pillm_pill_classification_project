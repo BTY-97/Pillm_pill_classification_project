{
  "nbformat": 4,
  "nbformat_minor": 0,
  "metadata": {
    "colab": {
      "provenance": [],
      "machine_shape": "hm",
      "collapsed_sections": [
        "uQZEoV0OR1Yj",
        "9WL38O2QS-NB"
      ]
    },
    "kernelspec": {
      "name": "python3",
      "display_name": "Python 3"
    },
    "language_info": {
      "name": "python"
    },
    "gpuClass": "premium",
    "accelerator": "GPU"
  },
  "cells": [
    {
      "cell_type": "code",
      "execution_count": null,
      "metadata": {
        "id": "z581MVmKMcsS"
      },
      "outputs": [],
      "source": [
        "import tensorflow as tf\n",
        "import cv2 as cv\n",
        "import pandas as pd\n",
        "import numpy as np\n",
        "import matplotlib.pyplot as plt\n",
        "from PIL import Image\n",
        "import warnings\n",
        "import re\n",
        "import pickle\n",
        "warnings.filterwarnings(\"ignore\")\n",
        "path = '/content/drive/MyDrive/'"
      ]
    },
    {
      "cell_type": "code",
      "source": [
        "from collections import defaultdict"
      ],
      "metadata": {
        "id": "vI9sl2X0ylmc"
      },
      "execution_count": null,
      "outputs": []
    },
    {
      "cell_type": "markdown",
      "source": [
        "# **Data**"
      ],
      "metadata": {
        "id": "8d4E2mFOygdY"
      }
    },
    {
      "cell_type": "code",
      "source": [
        "def csv_process(csv_path, col_name, verbose = False):\n",
        "    \"\"\"\n",
        "        csv에서 train에 필요한것만 정제\n",
        "        input : csv path, col_name(str)\n",
        "        output : y_train, y_val, y_test , category dict\n",
        "    \"\"\"\n",
        "    data = pd.read_csv(csv_path)\n",
        "    raw = data.copy()\n",
        "    data[col_name]=data[col_name].astype('category')\n",
        "    data[col_name]=data[col_name].cat.codes\n",
        "\n",
        "    dict_col = defaultdict(str)\n",
        "\n",
        "    for a, b in zip(raw[col_name].value_counts().keys(), data[col_name].value_counts().keys()):\n",
        "        dict_col[b] = a \n",
        "   \n",
        "    train_labels = data[:6000].copy()\n",
        "    train_labels.reset_index(inplace=True)\n",
        "\n",
        "    test_labels = data[6000:8000].copy()\n",
        "    test_labels.reset_index(inplace=True)\n",
        "\n",
        "    y_train = train_labels[col_name][:4500]\n",
        "    y_val = train_labels[col_name][4500:6000]\n",
        "    y_test = test_labels[col_name]\n",
        "\n",
        "\n",
        "    return (y_train, y_val, y_test, dict_col)\n",
        "\n",
        "def load_img(img_path, img_size=224, verbose=True):\n",
        "    \"\"\"\n",
        "        train img, val img, test img 생성\n",
        "        input : img_path\n",
        "        output : X_train, X_val, X_test\n",
        "    \"\"\"\n",
        "    if not img_path.endswith('/'):\n",
        "        img_path += '/'\n",
        "\n",
        "    train_img = list()\n",
        "    cnt = 0\n",
        "    for i in range(6000):\n",
        "  \n",
        "        try:\n",
        "            train_img.append(np.array(Image.open(img_path+'{}_f.jpg'.format(cnt)).resize((img_size,img_size)),dtype=np.float))\n",
        "        except:\n",
        "            train_img.append(np.zeros((img_size,img_size,3)))\n",
        "        cnt += 1\n",
        "\n",
        "        if i%600==0 and verbose:\n",
        "            print(i,' Train Done')\n",
        "\n",
        "    test_img = list()\n",
        "\n",
        "    for i in range(2000):\n",
        "\n",
        "        try:\n",
        "            test_img.append(np.array(Image.open(img_path+'{}_f.jpg'.format(cnt)).resize((img_size,img_size)),dtype=np.float))\n",
        "        except:\n",
        "            test_img.append(np.zeros((img_size,img_size,3)))\n",
        "\n",
        "        cnt += 1\n",
        "        if i%200==0 and verbose:\n",
        "            print(i,' Test Done')\n",
        "\n",
        "    X_train = tf.convert_to_tensor(train_img[:4500])\n",
        "    X_val = tf.convert_to_tensor(train_img[4500:6000])\n",
        "\n",
        "    X_test = tf.convert_to_tensor(test_img)\n",
        "\n",
        "    return (X_train, X_val, X_test)"
      ],
      "metadata": {
        "id": "ROVhV1qfaO0h"
      },
      "execution_count": null,
      "outputs": []
    },
    {
      "cell_type": "code",
      "source": [
        "y_my_train, y_my_val, y_my_test, my_dict = csv_process(path+'merged_med_4.csv','의약품제형')\n",
        "y_jh_train, y_jh_val, y_jh_test, jh_dict = csv_process(path+'merged_med_4.csv','제형코드명')\n",
        "y_bh_train, y_bh_val, y_bh_test, bh_dict = csv_process(path+'merged_med_4.csv','앞분할선')"
      ],
      "metadata": {
        "id": "6JGP15vSz833"
      },
      "execution_count": null,
      "outputs": []
    },
    {
      "cell_type": "code",
      "source": [
        "jh_dict, my_dict, bh_dict"
      ],
      "metadata": {
        "colab": {
          "base_uri": "https://localhost:8080/"
        },
        "id": "8Satk9nA4ykt",
        "outputId": "dacbf959-77de-46c7-c5ec-fb080c0f8669"
      },
      "execution_count": null,
      "outputs": [
        {
          "output_type": "execute_result",
          "data": {
            "text/plain": [
              "(defaultdict(str, {3: '정제', 0: '경질캡슐', 2: '연질캡슐', 1: '기타'}),\n",
              " defaultdict(str,\n",
              "             {6: '원형',\n",
              "              8: '장방형',\n",
              "              9: '타원형',\n",
              "              0: '기타',\n",
              "              4: '삼각형',\n",
              "              10: '팔각형',\n",
              "              3: '사각형',\n",
              "              5: '오각형',\n",
              "              7: '육각형',\n",
              "              1: '마름모형',\n",
              "              2: '반원형'}),\n",
              " defaultdict(str, {2: 'x', 1: '-', 0: '+', 3: '기타'}))"
            ]
          },
          "metadata": {},
          "execution_count": 34
        }
      ]
    },
    {
      "cell_type": "code",
      "source": [
        "#X_train, X_val, X_test = load_img(path+'pills_preprocessing/cropped_pills_no_bg/')"
      ],
      "metadata": {
        "id": "fIfL3bsW01nT"
      },
      "execution_count": null,
      "outputs": []
    },
    {
      "cell_type": "code",
      "source": [
        "#with open(path+'X_train_8000_1', 'wb') as file:\n",
        "#  pickle.dump(X_train[:3000], file)\n",
        "#with open(path+'X_train_8000_1', 'wb') as file:\n",
        "#  pickle.dump(X_train[3000:], file)\n",
        "#with open(path+'X_val_8000', 'wb') as file:\n",
        "#  pickle.dump(X_val, file)\n",
        "#with open(path+'X_test_8000', 'wb') as file:\n",
        "#  pickle.dump(X_test, file)"
      ],
      "metadata": {
        "id": "7IWmY9vx65g3"
      },
      "execution_count": null,
      "outputs": []
    },
    {
      "cell_type": "code",
      "source": [
        "with open(path+'X_train_8000_1', 'rb') as file:\n",
        "  X_train_1 = pickle.load(file)\n",
        "with open(path+'X_train_8000_2', 'rb') as file:\n",
        "  X_train_2 = pickle.load(file)\n",
        "with open(path+'X_val_8000', 'rb') as file:\n",
        "  X_val = pickle.load(file)\n",
        "with open(path+'X_test_8000', 'rb') as file:\n",
        "  X_test = pickle.load(file)"
      ],
      "metadata": {
        "id": "PIm_5NgBVZ9v"
      },
      "execution_count": null,
      "outputs": []
    },
    {
      "cell_type": "code",
      "source": [
        "X_train = tf.concat([X_train_1,X_train_2], axis=0)\n",
        "del X_train_1, X_train_2"
      ],
      "metadata": {
        "id": "pq6tUCmMRdlC"
      },
      "execution_count": null,
      "outputs": []
    },
    {
      "cell_type": "code",
      "source": [
        "X_train.shape, X_val.shape, X_test.shape"
      ],
      "metadata": {
        "colab": {
          "base_uri": "https://localhost:8080/"
        },
        "id": "lxjSxefaMkBL",
        "outputId": "5964820f-ce89-47de-f988-4dd7e34e37fc"
      },
      "execution_count": null,
      "outputs": [
        {
          "output_type": "execute_result",
          "data": {
            "text/plain": [
              "((4500, 224, 224, 3),\n",
              " TensorShape([1500, 224, 224, 3]),\n",
              " TensorShape([2000, 224, 224, 3]))"
            ]
          },
          "metadata": {},
          "execution_count": 8
        }
      ]
    },
    {
      "cell_type": "markdown",
      "source": [
        "# **Model**"
      ],
      "metadata": {
        "id": "5jftx2CIyish"
      }
    },
    {
      "cell_type": "markdown",
      "source": [
        "## **1. 모양**"
      ],
      "metadata": {
        "id": "Ao4qFlARzbS9"
      }
    },
    {
      "cell_type": "code",
      "source": [
        "EN1 = tf.keras.applications.EfficientNetB4(\n",
        "    include_top=False,\n",
        "    weights=\"imagenet\",\n",
        "    input_tensor=None,\n",
        "    input_shape=(224,224,3),\n",
        "    pooling=None,\n",
        "    classes=11,\n",
        "    classifier_activation=\"softmax\",\n",
        ")"
      ],
      "metadata": {
        "colab": {
          "base_uri": "https://localhost:8080/"
        },
        "id": "phfxlYQmMvm6",
        "outputId": "7e000ec3-e9f6-4655-b42f-d5854d6e079d"
      },
      "execution_count": null,
      "outputs": [
        {
          "output_type": "stream",
          "name": "stdout",
          "text": [
            "Downloading data from https://storage.googleapis.com/keras-applications/efficientnetb4_notop.h5\n",
            "71686520/71686520 [==============================] - 0s 0us/step\n"
          ]
        }
      ]
    },
    {
      "cell_type": "code",
      "source": [
        "EN1.summary()"
      ],
      "metadata": {
        "id": "zVZCL4tnM1RT"
      },
      "execution_count": null,
      "outputs": []
    },
    {
      "cell_type": "code",
      "source": [
        "EN1.trainable=False"
      ],
      "metadata": {
        "id": "uJMAl5ETSBoR"
      },
      "execution_count": null,
      "outputs": []
    },
    {
      "cell_type": "code",
      "source": [
        "inputs = tf.keras.Input(shape=(224,224,3))\n",
        "x = EN1(inputs, training=False)\n",
        "x = tf.keras.layers.GlobalAveragePooling2D()(x)\n",
        "x = tf.keras.layers.Dropout(0.2)(x)\n",
        "x = tf.keras.layers.Dense(11)(x)\n",
        "my_model = tf.keras.Model(inputs, x)"
      ],
      "metadata": {
        "id": "0J8uv2p2zGrA"
      },
      "execution_count": null,
      "outputs": []
    },
    {
      "cell_type": "code",
      "source": [
        "my_model.summary()"
      ],
      "metadata": {
        "colab": {
          "base_uri": "https://localhost:8080/"
        },
        "id": "scaG3G_BSrXZ",
        "outputId": "2bd2d0d2-31f5-4ccf-e8cc-de332801c3b7"
      },
      "execution_count": null,
      "outputs": [
        {
          "output_type": "stream",
          "name": "stdout",
          "text": [
            "Model: \"model\"\n",
            "_________________________________________________________________\n",
            " Layer (type)                Output Shape              Param #   \n",
            "=================================================================\n",
            " input_2 (InputLayer)        [(None, 224, 224, 3)]     0         \n",
            "                                                                 \n",
            " efficientnetb4 (Functional)  (None, 7, 7, 1792)       17673823  \n",
            "                                                                 \n",
            " global_average_pooling2d (G  (None, 1792)             0         \n",
            " lobalAveragePooling2D)                                          \n",
            "                                                                 \n",
            " dropout (Dropout)           (None, 1792)              0         \n",
            "                                                                 \n",
            " dense (Dense)               (None, 11)                19723     \n",
            "                                                                 \n",
            "=================================================================\n",
            "Total params: 17,693,546\n",
            "Trainable params: 19,723\n",
            "Non-trainable params: 17,673,823\n",
            "_________________________________________________________________\n"
          ]
        }
      ]
    },
    {
      "cell_type": "code",
      "source": [
        "my_model.compile(\n",
        "    optimizer=tf.keras.optimizers.Adam(0.0001),\n",
        "    loss=tf.keras.losses.SparseCategoricalCrossentropy(from_logits=True),\n",
        "    metrics=['acc']\n",
        ")"
      ],
      "metadata": {
        "id": "NhuusY4-TNau"
      },
      "execution_count": null,
      "outputs": []
    },
    {
      "cell_type": "code",
      "source": [
        "history = my_model.fit(X_train,y_my_train,epochs=50 ,batch_size=32, validation_data=(X_val, y_my_val))"
      ],
      "metadata": {
        "colab": {
          "base_uri": "https://localhost:8080/"
        },
        "id": "v4zR3-f2Th1L",
        "outputId": "ad91ba78-d39e-482a-9aae-e21ee0cf4fb3"
      },
      "execution_count": null,
      "outputs": [
        {
          "output_type": "stream",
          "name": "stdout",
          "text": [
            "Epoch 1/50\n",
            "141/141 [==============================] - 21s 74ms/step - loss: 1.3013 - acc: 0.6431 - val_loss: 0.8259 - val_acc: 0.7727\n",
            "Epoch 2/50\n",
            "141/141 [==============================] - 8s 54ms/step - loss: 0.6384 - acc: 0.8411 - val_loss: 0.5791 - val_acc: 0.8447\n",
            "Epoch 3/50\n",
            "141/141 [==============================] - 8s 54ms/step - loss: 0.4862 - acc: 0.8780 - val_loss: 0.4734 - val_acc: 0.8753\n",
            "Epoch 4/50\n",
            "141/141 [==============================] - 8s 54ms/step - loss: 0.4093 - acc: 0.8900 - val_loss: 0.4123 - val_acc: 0.8887\n",
            "Epoch 5/50\n",
            "141/141 [==============================] - 8s 54ms/step - loss: 0.3629 - acc: 0.8929 - val_loss: 0.3699 - val_acc: 0.8953\n",
            "Epoch 6/50\n",
            "141/141 [==============================] - 8s 54ms/step - loss: 0.3276 - acc: 0.9016 - val_loss: 0.3385 - val_acc: 0.8987\n",
            "Epoch 7/50\n",
            "141/141 [==============================] - 8s 54ms/step - loss: 0.2990 - acc: 0.9064 - val_loss: 0.3137 - val_acc: 0.9073\n",
            "Epoch 8/50\n",
            "141/141 [==============================] - 8s 54ms/step - loss: 0.2806 - acc: 0.9109 - val_loss: 0.2935 - val_acc: 0.9107\n",
            "Epoch 9/50\n",
            "141/141 [==============================] - 8s 54ms/step - loss: 0.2633 - acc: 0.9151 - val_loss: 0.2768 - val_acc: 0.9180\n",
            "Epoch 10/50\n",
            "141/141 [==============================] - 8s 54ms/step - loss: 0.2474 - acc: 0.9247 - val_loss: 0.2631 - val_acc: 0.9220\n",
            "Epoch 11/50\n",
            "141/141 [==============================] - 8s 54ms/step - loss: 0.2399 - acc: 0.9269 - val_loss: 0.2521 - val_acc: 0.9227\n",
            "Epoch 12/50\n",
            "141/141 [==============================] - 8s 54ms/step - loss: 0.2279 - acc: 0.9304 - val_loss: 0.2432 - val_acc: 0.9247\n",
            "Epoch 13/50\n",
            "141/141 [==============================] - 8s 54ms/step - loss: 0.2173 - acc: 0.9316 - val_loss: 0.2352 - val_acc: 0.9293\n",
            "Epoch 14/50\n",
            "141/141 [==============================] - 8s 54ms/step - loss: 0.2091 - acc: 0.9369 - val_loss: 0.2275 - val_acc: 0.9307\n",
            "Epoch 15/50\n",
            "141/141 [==============================] - 8s 54ms/step - loss: 0.2025 - acc: 0.9373 - val_loss: 0.2213 - val_acc: 0.9327\n",
            "Epoch 16/50\n",
            "141/141 [==============================] - 8s 54ms/step - loss: 0.1972 - acc: 0.9376 - val_loss: 0.2163 - val_acc: 0.9353\n",
            "Epoch 17/50\n",
            "141/141 [==============================] - 8s 54ms/step - loss: 0.1927 - acc: 0.9422 - val_loss: 0.2105 - val_acc: 0.9373\n",
            "Epoch 18/50\n",
            "141/141 [==============================] - 8s 55ms/step - loss: 0.1869 - acc: 0.9380 - val_loss: 0.2066 - val_acc: 0.9373\n",
            "Epoch 19/50\n",
            "141/141 [==============================] - 8s 54ms/step - loss: 0.1827 - acc: 0.9429 - val_loss: 0.2043 - val_acc: 0.9387\n",
            "Epoch 20/50\n",
            "141/141 [==============================] - 8s 55ms/step - loss: 0.1784 - acc: 0.9442 - val_loss: 0.2000 - val_acc: 0.9380\n",
            "Epoch 21/50\n",
            "141/141 [==============================] - 8s 55ms/step - loss: 0.1748 - acc: 0.9440 - val_loss: 0.1972 - val_acc: 0.9387\n",
            "Epoch 22/50\n",
            "141/141 [==============================] - 8s 54ms/step - loss: 0.1700 - acc: 0.9462 - val_loss: 0.1932 - val_acc: 0.9393\n",
            "Epoch 23/50\n",
            "141/141 [==============================] - 8s 54ms/step - loss: 0.1658 - acc: 0.9478 - val_loss: 0.1919 - val_acc: 0.9387\n",
            "Epoch 24/50\n",
            "141/141 [==============================] - 8s 54ms/step - loss: 0.1651 - acc: 0.9456 - val_loss: 0.1892 - val_acc: 0.9400\n",
            "Epoch 25/50\n",
            "141/141 [==============================] - 8s 54ms/step - loss: 0.1610 - acc: 0.9460 - val_loss: 0.1857 - val_acc: 0.9413\n",
            "Epoch 26/50\n",
            "141/141 [==============================] - 8s 54ms/step - loss: 0.1577 - acc: 0.9464 - val_loss: 0.1830 - val_acc: 0.9413\n",
            "Epoch 27/50\n",
            "141/141 [==============================] - 8s 54ms/step - loss: 0.1547 - acc: 0.9509 - val_loss: 0.1813 - val_acc: 0.9427\n",
            "Epoch 28/50\n",
            "141/141 [==============================] - 8s 54ms/step - loss: 0.1544 - acc: 0.9500 - val_loss: 0.1795 - val_acc: 0.9427\n",
            "Epoch 29/50\n",
            "141/141 [==============================] - 8s 54ms/step - loss: 0.1494 - acc: 0.9507 - val_loss: 0.1773 - val_acc: 0.9440\n",
            "Epoch 30/50\n",
            "141/141 [==============================] - 8s 55ms/step - loss: 0.1468 - acc: 0.9513 - val_loss: 0.1760 - val_acc: 0.9447\n",
            "Epoch 31/50\n",
            "141/141 [==============================] - 8s 54ms/step - loss: 0.1447 - acc: 0.9516 - val_loss: 0.1743 - val_acc: 0.9453\n",
            "Epoch 32/50\n",
            "141/141 [==============================] - 8s 54ms/step - loss: 0.1448 - acc: 0.9518 - val_loss: 0.1723 - val_acc: 0.9467\n",
            "Epoch 33/50\n",
            "141/141 [==============================] - 8s 54ms/step - loss: 0.1431 - acc: 0.9524 - val_loss: 0.1714 - val_acc: 0.9467\n",
            "Epoch 34/50\n",
            "141/141 [==============================] - 8s 54ms/step - loss: 0.1388 - acc: 0.9549 - val_loss: 0.1704 - val_acc: 0.9473\n",
            "Epoch 35/50\n",
            "141/141 [==============================] - 8s 54ms/step - loss: 0.1410 - acc: 0.9524 - val_loss: 0.1691 - val_acc: 0.9480\n",
            "Epoch 36/50\n",
            "141/141 [==============================] - 8s 54ms/step - loss: 0.1352 - acc: 0.9558 - val_loss: 0.1671 - val_acc: 0.9480\n",
            "Epoch 37/50\n",
            "141/141 [==============================] - 8s 55ms/step - loss: 0.1328 - acc: 0.9558 - val_loss: 0.1651 - val_acc: 0.9480\n",
            "Epoch 38/50\n",
            "141/141 [==============================] - 8s 55ms/step - loss: 0.1352 - acc: 0.9567 - val_loss: 0.1640 - val_acc: 0.9487\n",
            "Epoch 39/50\n",
            "141/141 [==============================] - 8s 54ms/step - loss: 0.1316 - acc: 0.9582 - val_loss: 0.1631 - val_acc: 0.9480\n",
            "Epoch 40/50\n",
            "141/141 [==============================] - 8s 55ms/step - loss: 0.1308 - acc: 0.9591 - val_loss: 0.1621 - val_acc: 0.9480\n",
            "Epoch 41/50\n",
            "141/141 [==============================] - 8s 54ms/step - loss: 0.1283 - acc: 0.9576 - val_loss: 0.1611 - val_acc: 0.9487\n",
            "Epoch 42/50\n",
            "141/141 [==============================] - 8s 54ms/step - loss: 0.1270 - acc: 0.9573 - val_loss: 0.1608 - val_acc: 0.9480\n",
            "Epoch 43/50\n",
            "141/141 [==============================] - 8s 54ms/step - loss: 0.1270 - acc: 0.9582 - val_loss: 0.1600 - val_acc: 0.9487\n",
            "Epoch 44/50\n",
            "141/141 [==============================] - 8s 55ms/step - loss: 0.1222 - acc: 0.9584 - val_loss: 0.1583 - val_acc: 0.9493\n",
            "Epoch 45/50\n",
            "141/141 [==============================] - 8s 54ms/step - loss: 0.1239 - acc: 0.9584 - val_loss: 0.1576 - val_acc: 0.9500\n",
            "Epoch 46/50\n",
            "141/141 [==============================] - 8s 54ms/step - loss: 0.1215 - acc: 0.9604 - val_loss: 0.1561 - val_acc: 0.9507\n",
            "Epoch 47/50\n",
            "141/141 [==============================] - 8s 54ms/step - loss: 0.1207 - acc: 0.9609 - val_loss: 0.1557 - val_acc: 0.9493\n",
            "Epoch 48/50\n",
            "141/141 [==============================] - 8s 54ms/step - loss: 0.1200 - acc: 0.9600 - val_loss: 0.1547 - val_acc: 0.9493\n",
            "Epoch 49/50\n",
            "141/141 [==============================] - 8s 54ms/step - loss: 0.1173 - acc: 0.9616 - val_loss: 0.1548 - val_acc: 0.9513\n",
            "Epoch 50/50\n",
            "141/141 [==============================] - 8s 54ms/step - loss: 0.1155 - acc: 0.9611 - val_loss: 0.1537 - val_acc: 0.9507\n"
          ]
        }
      ]
    },
    {
      "cell_type": "code",
      "source": [
        "my_model.evaluate(X_test,y_my_test)"
      ],
      "metadata": {
        "colab": {
          "base_uri": "https://localhost:8080/"
        },
        "id": "LqGwPHzNN52p",
        "outputId": "e69c1bc8-5566-4f17-bd56-8ad29e1958a9"
      },
      "execution_count": null,
      "outputs": [
        {
          "output_type": "stream",
          "name": "stdout",
          "text": [
            "63/63 [==============================] - 3s 45ms/step - loss: 0.1513 - acc: 0.9435\n"
          ]
        },
        {
          "output_type": "execute_result",
          "data": {
            "text/plain": [
              "[0.1513194441795349, 0.9434999823570251]"
            ]
          },
          "metadata": {},
          "execution_count": 35
        }
      ]
    },
    {
      "cell_type": "code",
      "source": [
        "pred = my_model.predict(X_test)"
      ],
      "metadata": {
        "colab": {
          "base_uri": "https://localhost:8080/"
        },
        "id": "ErH_qJk8N542",
        "outputId": "677e0109-e9d1-4192-ea39-a666ebe96e8e"
      },
      "execution_count": null,
      "outputs": [
        {
          "output_type": "stream",
          "name": "stdout",
          "text": [
            "63/63 [==============================] - 5s 41ms/step\n"
          ]
        }
      ]
    },
    {
      "cell_type": "code",
      "source": [
        "error = defaultdict(int)\n",
        "for i in range(len(y_my_test)):\n",
        "  if np.argmax(pred[i]) != y_my_test[i]:\n",
        "    error[(my_dict[np.argmax(pred[i])], my_dict[y_my_test[i]])] += 1"
      ],
      "metadata": {
        "id": "C8H445HXUGZH"
      },
      "execution_count": null,
      "outputs": []
    },
    {
      "cell_type": "code",
      "source": [
        "sorted(error.items(), key=lambda v:v[1], reverse=True)"
      ],
      "metadata": {
        "id": "Ra8IZ1leU2Zp",
        "colab": {
          "base_uri": "https://localhost:8080/"
        },
        "outputId": "5f233389-2db8-4358-be36-4022362529af"
      },
      "execution_count": null,
      "outputs": [
        {
          "output_type": "execute_result",
          "data": {
            "text/plain": [
              "[(('타원형', '장방형'), 34),\n",
              " (('장방형', '타원형'), 20),\n",
              " (('장방형', '기타'), 17),\n",
              " (('기타', '삼각형'), 9),\n",
              " (('타원형', '기타'), 5),\n",
              " (('원형', '타원형'), 5),\n",
              " (('기타', '타원형'), 4),\n",
              " (('삼각형', '오각형'), 3),\n",
              " (('원형', '기타'), 3),\n",
              " (('육각형', '오각형'), 2),\n",
              " (('육각형', '삼각형'), 2),\n",
              " (('기타', '마름모형'), 1),\n",
              " (('원형', '팔각형'), 1),\n",
              " (('원형', '삼각형'), 1),\n",
              " (('기타', '오각형'), 1),\n",
              " (('육각형', '팔각형'), 1),\n",
              " (('팔각형', '육각형'), 1),\n",
              " (('육각형', '기타'), 1),\n",
              " (('타원형', '팔각형'), 1),\n",
              " (('타원형', '마름모형'), 1)]"
            ]
          },
          "metadata": {},
          "execution_count": 38
        }
      ]
    },
    {
      "cell_type": "code",
      "execution_count": null,
      "metadata": {
        "colab": {
          "base_uri": "https://localhost:8080/",
          "height": 295
        },
        "outputId": "69ba7f49-7edc-44af-8886-ae131952a6c7",
        "id": "3RXeZZ0Er-am"
      },
      "outputs": [
        {
          "output_type": "display_data",
          "data": {
            "text/plain": [
              "<Figure size 432x288 with 1 Axes>"
            ],
            "image/png": "[encoded data removed]"
          },
          "metadata": {
            "needs_background": "light"
          }
        }
      ],
      "source": [
        "plt.plot(history.history['acc'])\n",
        "plt.plot(history.history['val_acc'])\n",
        "plt.title('model accuracy')\n",
        "plt.ylabel('acc')\n",
        "plt.xlabel('epoch')\n",
        "plt.legend(['train', 'test'], loc='upper left')\n",
        "plt.show()"
      ]
    },
    {
      "cell_type": "code",
      "execution_count": null,
      "metadata": {
        "colab": {
          "base_uri": "https://localhost:8080/",
          "height": 295
        },
        "outputId": "7174bcda-6844-4a62-f395-607c91d52244",
        "id": "o-O7TBq6r-am"
      },
      "outputs": [
        {
          "output_type": "display_data",
          "data": {
            "text/plain": [
              "<Figure size 432x288 with 1 Axes>"
            ],
            "image/png": "[encoded data removed]"
          },
          "metadata": {
            "needs_background": "light"
          }
        }
      ],
      "source": [
        "plt.plot(history.history['loss'][10:])\n",
        "plt.plot(history.history['val_loss'][10:])\n",
        "plt.title('model loss')\n",
        "plt.ylabel('loss')\n",
        "plt.xlabel('epoch')\n",
        "plt.legend(['train', 'test'], loc='upper left')\n",
        "plt.show()"
      ]
    },
    {
      "cell_type": "code",
      "source": [
        "my_model.save(path+'clss_model/my/efnet1')"
      ],
      "metadata": {
        "id": "wO5ZPi3YfI7i",
        "colab": {
          "base_uri": "https://localhost:8080/"
        },
        "outputId": "c6255e81-5a0e-41dd-b06b-b01a0524618a"
      },
      "execution_count": null,
      "outputs": [
        {
          "output_type": "stream",
          "name": "stderr",
          "text": [
            "WARNING:absl:Found untraced functions such as _jit_compiled_convolution_op, _jit_compiled_convolution_op, _jit_compiled_convolution_op, _jit_compiled_convolution_op, _jit_compiled_convolution_op while saving (showing 5 of 160). These functions will not be directly callable after loading.\n"
          ]
        }
      ]
    },
    {
      "cell_type": "markdown",
      "source": [
        "## **2. 제형**"
      ],
      "metadata": {
        "id": "uQZEoV0OR1Yj"
      }
    },
    {
      "cell_type": "code",
      "source": [
        "EN2 = tf.keras.applications.EfficientNetB4(\n",
        "    include_top=False,\n",
        "    weights=\"imagenet\",\n",
        "    input_tensor=None,\n",
        "    input_shape=(224,224,3),\n",
        "    pooling=None,\n",
        "    classes=4,\n",
        "    classifier_activation=\"softmax\",\n",
        ")"
      ],
      "metadata": {
        "id": "H61jwWTMR1Yj"
      },
      "execution_count": null,
      "outputs": []
    },
    {
      "cell_type": "code",
      "source": [
        "#EN2.summary()"
      ],
      "metadata": {
        "id": "G9xVQIw7R1Yk"
      },
      "execution_count": null,
      "outputs": []
    },
    {
      "cell_type": "code",
      "source": [
        "EN2.trainable=False"
      ],
      "metadata": {
        "id": "FsvCaYJjR1Yk"
      },
      "execution_count": null,
      "outputs": []
    },
    {
      "cell_type": "code",
      "source": [
        "inputs = tf.keras.Input(shape=(224,224,3))\n",
        "x = EN2(inputs, training=False)\n",
        "x = tf.keras.layers.GlobalAveragePooling2D()(x)\n",
        "x = tf.keras.layers.Dropout(0.2)(x)\n",
        "x = tf.keras.layers.Dense(4)(x)\n",
        "jh_model = tf.keras.Model(inputs, x)"
      ],
      "metadata": {
        "id": "aWM2VRpMR1Yk"
      },
      "execution_count": null,
      "outputs": []
    },
    {
      "cell_type": "code",
      "source": [
        "jh_model.summary()"
      ],
      "metadata": {
        "colab": {
          "base_uri": "https://localhost:8080/"
        },
        "outputId": "ea3bec64-4f98-412a-f65e-94c9b78f2566",
        "id": "B-eXVP8LR1Yk"
      },
      "execution_count": null,
      "outputs": [
        {
          "output_type": "stream",
          "name": "stdout",
          "text": [
            "Model: \"model_6\"\n",
            "_________________________________________________________________\n",
            " Layer (type)                Output Shape              Param #   \n",
            "=================================================================\n",
            " input_10 (InputLayer)       [(None, 224, 224, 3)]     0         \n",
            "                                                                 \n",
            " efficientnetb4 (Functional)  (None, 7, 7, 1792)       17673823  \n",
            "                                                                 \n",
            " global_average_pooling2d_6   (None, 1792)             0         \n",
            " (GlobalAveragePooling2D)                                        \n",
            "                                                                 \n",
            " dropout_6 (Dropout)         (None, 1792)              0         \n",
            "                                                                 \n",
            " dense_6 (Dense)             (None, 4)                 7172      \n",
            "                                                                 \n",
            "=================================================================\n",
            "Total params: 17,680,995\n",
            "Trainable params: 7,172\n",
            "Non-trainable params: 17,673,823\n",
            "_________________________________________________________________\n"
          ]
        }
      ]
    },
    {
      "cell_type": "code",
      "source": [
        "jh_model.compile(\n",
        "    optimizer=tf.keras.optimizers.Adam(0.0001),\n",
        "    loss=tf.keras.losses.SparseCategoricalCrossentropy(from_logits=True),\n",
        "    metrics=['acc']\n",
        ")"
      ],
      "metadata": {
        "id": "p9ZYh9rIR1Yk"
      },
      "execution_count": null,
      "outputs": []
    },
    {
      "cell_type": "code",
      "source": [
        "history2 = jh_model.fit(X_train,y_jh_train,epochs=50 ,batch_size=32, validation_data=(X_val, y_jh_val))"
      ],
      "metadata": {
        "colab": {
          "base_uri": "https://localhost:8080/"
        },
        "outputId": "8a0ed1ad-df6b-4305-bfa3-1a3646d9b99e",
        "id": "30UxfVTlR1Yl"
      },
      "execution_count": null,
      "outputs": [
        {
          "output_type": "stream",
          "name": "stdout",
          "text": [
            "Epoch 1/50\n",
            "141/141 [==============================] - 22s 74ms/step - loss: 0.7136 - acc: 0.7387 - val_loss: 0.3913 - val_acc: 0.9273\n",
            "Epoch 2/50\n",
            "141/141 [==============================] - 8s 54ms/step - loss: 0.2988 - acc: 0.9429 - val_loss: 0.2317 - val_acc: 0.9647\n",
            "Epoch 3/50\n",
            "141/141 [==============================] - 8s 54ms/step - loss: 0.1965 - acc: 0.9662 - val_loss: 0.1717 - val_acc: 0.9733\n",
            "Epoch 4/50\n",
            "141/141 [==============================] - 8s 55ms/step - loss: 0.1518 - acc: 0.9747 - val_loss: 0.1419 - val_acc: 0.9767\n",
            "Epoch 5/50\n",
            "141/141 [==============================] - 8s 54ms/step - loss: 0.1289 - acc: 0.9773 - val_loss: 0.1241 - val_acc: 0.9773\n",
            "Epoch 6/50\n",
            "141/141 [==============================] - 8s 55ms/step - loss: 0.1122 - acc: 0.9789 - val_loss: 0.1123 - val_acc: 0.9793\n",
            "Epoch 7/50\n",
            "141/141 [==============================] - 8s 55ms/step - loss: 0.1031 - acc: 0.9807 - val_loss: 0.1039 - val_acc: 0.9800\n",
            "Epoch 8/50\n",
            "141/141 [==============================] - 8s 55ms/step - loss: 0.0958 - acc: 0.9816 - val_loss: 0.0978 - val_acc: 0.9807\n",
            "Epoch 9/50\n",
            "141/141 [==============================] - 8s 54ms/step - loss: 0.0897 - acc: 0.9829 - val_loss: 0.0929 - val_acc: 0.9813\n",
            "Epoch 10/50\n",
            "141/141 [==============================] - 8s 56ms/step - loss: 0.0844 - acc: 0.9838 - val_loss: 0.0889 - val_acc: 0.9813\n",
            "Epoch 11/50\n",
            "141/141 [==============================] - 8s 54ms/step - loss: 0.0811 - acc: 0.9836 - val_loss: 0.0856 - val_acc: 0.9820\n",
            "Epoch 12/50\n",
            "141/141 [==============================] - 8s 55ms/step - loss: 0.0773 - acc: 0.9847 - val_loss: 0.0827 - val_acc: 0.9827\n",
            "Epoch 13/50\n",
            "141/141 [==============================] - 8s 54ms/step - loss: 0.0743 - acc: 0.9847 - val_loss: 0.0803 - val_acc: 0.9827\n",
            "Epoch 14/50\n",
            "141/141 [==============================] - 8s 54ms/step - loss: 0.0721 - acc: 0.9860 - val_loss: 0.0786 - val_acc: 0.9827\n",
            "Epoch 15/50\n",
            "141/141 [==============================] - 8s 55ms/step - loss: 0.0692 - acc: 0.9858 - val_loss: 0.0766 - val_acc: 0.9827\n",
            "Epoch 16/50\n",
            "141/141 [==============================] - 8s 55ms/step - loss: 0.0674 - acc: 0.9864 - val_loss: 0.0754 - val_acc: 0.9827\n",
            "Epoch 17/50\n",
            "141/141 [==============================] - 8s 54ms/step - loss: 0.0655 - acc: 0.9862 - val_loss: 0.0739 - val_acc: 0.9833\n",
            "Epoch 18/50\n",
            "141/141 [==============================] - 8s 54ms/step - loss: 0.0641 - acc: 0.9864 - val_loss: 0.0732 - val_acc: 0.9827\n",
            "Epoch 19/50\n",
            "141/141 [==============================] - 8s 55ms/step - loss: 0.0620 - acc: 0.9871 - val_loss: 0.0721 - val_acc: 0.9833\n",
            "Epoch 20/50\n",
            "141/141 [==============================] - 8s 55ms/step - loss: 0.0603 - acc: 0.9871 - val_loss: 0.0715 - val_acc: 0.9833\n",
            "Epoch 21/50\n",
            "141/141 [==============================] - 8s 55ms/step - loss: 0.0588 - acc: 0.9873 - val_loss: 0.0707 - val_acc: 0.9833\n",
            "Epoch 22/50\n",
            "141/141 [==============================] - 8s 54ms/step - loss: 0.0595 - acc: 0.9871 - val_loss: 0.0695 - val_acc: 0.9833\n",
            "Epoch 23/50\n",
            "141/141 [==============================] - 8s 54ms/step - loss: 0.0571 - acc: 0.9876 - val_loss: 0.0690 - val_acc: 0.9833\n",
            "Epoch 24/50\n",
            "141/141 [==============================] - 8s 54ms/step - loss: 0.0546 - acc: 0.9887 - val_loss: 0.0685 - val_acc: 0.9840\n",
            "Epoch 25/50\n",
            "141/141 [==============================] - 8s 54ms/step - loss: 0.0542 - acc: 0.9878 - val_loss: 0.0680 - val_acc: 0.9833\n",
            "Epoch 26/50\n",
            "141/141 [==============================] - 8s 55ms/step - loss: 0.0535 - acc: 0.9880 - val_loss: 0.0675 - val_acc: 0.9840\n",
            "Epoch 27/50\n",
            "141/141 [==============================] - 8s 54ms/step - loss: 0.0519 - acc: 0.9896 - val_loss: 0.0672 - val_acc: 0.9840\n",
            "Epoch 28/50\n",
            "141/141 [==============================] - 8s 54ms/step - loss: 0.0525 - acc: 0.9880 - val_loss: 0.0668 - val_acc: 0.9847\n",
            "Epoch 29/50\n",
            "141/141 [==============================] - 8s 54ms/step - loss: 0.0518 - acc: 0.9898 - val_loss: 0.0664 - val_acc: 0.9847\n",
            "Epoch 30/50\n",
            "141/141 [==============================] - 8s 54ms/step - loss: 0.0495 - acc: 0.9891 - val_loss: 0.0661 - val_acc: 0.9847\n",
            "Epoch 31/50\n",
            "141/141 [==============================] - 8s 54ms/step - loss: 0.0499 - acc: 0.9898 - val_loss: 0.0658 - val_acc: 0.9847\n",
            "Epoch 32/50\n",
            "141/141 [==============================] - 8s 54ms/step - loss: 0.0480 - acc: 0.9889 - val_loss: 0.0655 - val_acc: 0.9847\n",
            "Epoch 33/50\n",
            "141/141 [==============================] - 8s 54ms/step - loss: 0.0477 - acc: 0.9891 - val_loss: 0.0653 - val_acc: 0.9847\n",
            "Epoch 34/50\n",
            "141/141 [==============================] - 8s 54ms/step - loss: 0.0474 - acc: 0.9904 - val_loss: 0.0651 - val_acc: 0.9847\n",
            "Epoch 35/50\n",
            "141/141 [==============================] - 8s 54ms/step - loss: 0.0455 - acc: 0.9904 - val_loss: 0.0651 - val_acc: 0.9847\n",
            "Epoch 36/50\n",
            "141/141 [==============================] - 8s 54ms/step - loss: 0.0450 - acc: 0.9913 - val_loss: 0.0652 - val_acc: 0.9847\n",
            "Epoch 37/50\n",
            "141/141 [==============================] - 8s 54ms/step - loss: 0.0451 - acc: 0.9909 - val_loss: 0.0651 - val_acc: 0.9847\n",
            "Epoch 38/50\n",
            "141/141 [==============================] - 8s 54ms/step - loss: 0.0444 - acc: 0.9911 - val_loss: 0.0648 - val_acc: 0.9847\n",
            "Epoch 39/50\n",
            "141/141 [==============================] - 8s 54ms/step - loss: 0.0440 - acc: 0.9907 - val_loss: 0.0648 - val_acc: 0.9847\n",
            "Epoch 40/50\n",
            "141/141 [==============================] - 8s 54ms/step - loss: 0.0441 - acc: 0.9898 - val_loss: 0.0646 - val_acc: 0.9847\n",
            "Epoch 41/50\n",
            "141/141 [==============================] - 8s 54ms/step - loss: 0.0424 - acc: 0.9911 - val_loss: 0.0647 - val_acc: 0.9847\n",
            "Epoch 42/50\n",
            "141/141 [==============================] - 8s 55ms/step - loss: 0.0413 - acc: 0.9907 - val_loss: 0.0643 - val_acc: 0.9853\n",
            "Epoch 43/50\n",
            "141/141 [==============================] - 8s 55ms/step - loss: 0.0425 - acc: 0.9909 - val_loss: 0.0642 - val_acc: 0.9847\n",
            "Epoch 44/50\n",
            "141/141 [==============================] - 8s 54ms/step - loss: 0.0413 - acc: 0.9911 - val_loss: 0.0639 - val_acc: 0.9853\n",
            "Epoch 45/50\n",
            "141/141 [==============================] - 8s 54ms/step - loss: 0.0408 - acc: 0.9913 - val_loss: 0.0639 - val_acc: 0.9860\n",
            "Epoch 46/50\n",
            "141/141 [==============================] - 8s 55ms/step - loss: 0.0409 - acc: 0.9904 - val_loss: 0.0641 - val_acc: 0.9860\n",
            "Epoch 47/50\n",
            "141/141 [==============================] - 8s 54ms/step - loss: 0.0390 - acc: 0.9918 - val_loss: 0.0640 - val_acc: 0.9860\n",
            "Epoch 48/50\n",
            "141/141 [==============================] - 8s 54ms/step - loss: 0.0392 - acc: 0.9911 - val_loss: 0.0640 - val_acc: 0.9860\n",
            "Epoch 49/50\n",
            "141/141 [==============================] - 8s 54ms/step - loss: 0.0388 - acc: 0.9911 - val_loss: 0.0643 - val_acc: 0.9860\n",
            "Epoch 50/50\n",
            "141/141 [==============================] - 8s 54ms/step - loss: 0.0386 - acc: 0.9916 - val_loss: 0.0636 - val_acc: 0.9860\n"
          ]
        }
      ]
    },
    {
      "cell_type": "code",
      "source": [
        "jh_model.evaluate(X_test,y_jh_test)"
      ],
      "metadata": {
        "colab": {
          "base_uri": "https://localhost:8080/"
        },
        "outputId": "221d2c57-5f9e-497a-ef92-d047fa49e7e8",
        "id": "Da8O3GFyR1Yl"
      },
      "execution_count": null,
      "outputs": [
        {
          "output_type": "stream",
          "name": "stdout",
          "text": [
            "63/63 [==============================] - 3s 44ms/step - loss: 0.0300 - acc: 0.9940\n"
          ]
        },
        {
          "output_type": "execute_result",
          "data": {
            "text/plain": [
              "[0.030044345185160637, 0.9940000176429749]"
            ]
          },
          "metadata": {},
          "execution_count": 66
        }
      ]
    },
    {
      "cell_type": "code",
      "source": [
        "pred = jh_model.predict(X_test)"
      ],
      "metadata": {
        "colab": {
          "base_uri": "https://localhost:8080/"
        },
        "outputId": "e84b26f6-c93d-4a4c-91b1-838ef8ac121e",
        "id": "xMwHa-7ER1Yl"
      },
      "execution_count": null,
      "outputs": [
        {
          "output_type": "stream",
          "name": "stdout",
          "text": [
            "63/63 [==============================] - 5s 41ms/step\n"
          ]
        }
      ]
    },
    {
      "cell_type": "code",
      "source": [
        "error = defaultdict(int)\n",
        "for i in range(len(y_jh_test)):\n",
        "  if np.argmax(pred[i]) != y_jh_test[i]:\n",
        "    error[(jh_dict[np.argmax(pred[i])], jh_dict[y_jh_test[i]])] += 1"
      ],
      "metadata": {
        "id": "ZdaU8DHCR1Yl"
      },
      "execution_count": null,
      "outputs": []
    },
    {
      "cell_type": "code",
      "source": [
        "sorted(error.items(), key=lambda v:v[1], reverse=True)"
      ],
      "metadata": {
        "colab": {
          "base_uri": "https://localhost:8080/"
        },
        "outputId": "349d4219-ffa8-45f2-bf02-cbf81e84e598",
        "id": "WjBO-SLPR1Yl"
      },
      "execution_count": null,
      "outputs": [
        {
          "output_type": "execute_result",
          "data": {
            "text/plain": [
              "[(('정제', '연질캡슐'), 5),\n",
              " (('경질캡슐', '정제'), 3),\n",
              " (('정제', '기타'), 2),\n",
              " (('연질캡슐', '기타'), 2)]"
            ]
          },
          "metadata": {},
          "execution_count": 71
        }
      ]
    },
    {
      "cell_type": "code",
      "execution_count": null,
      "metadata": {
        "colab": {
          "base_uri": "https://localhost:8080/",
          "height": 295
        },
        "outputId": "046795bd-fe3a-4b56-a096-e6c57cc70513",
        "id": "Q5N0FAytR1Yl"
      },
      "outputs": [
        {
          "output_type": "display_data",
          "data": {
            "text/plain": [
              "<Figure size 432x288 with 1 Axes>"
            ],
            "image/png": "[encoded data removed]"
          },
          "metadata": {
            "needs_background": "light"
          }
        }
      ],
      "source": [
        "plt.plot(history.history['acc'])\n",
        "plt.plot(history.history['val_acc'])\n",
        "plt.title('model accuracy')\n",
        "plt.ylabel('acc')\n",
        "plt.xlabel('epoch')\n",
        "plt.legend(['train', 'test'], loc='upper left')\n",
        "plt.show()"
      ]
    },
    {
      "cell_type": "code",
      "execution_count": null,
      "metadata": {
        "colab": {
          "base_uri": "https://localhost:8080/",
          "height": 295
        },
        "outputId": "2e5cb109-018e-43bc-bcfa-ffc1435f7b34",
        "id": "Jkr6dncQR1Yl"
      },
      "outputs": [
        {
          "output_type": "display_data",
          "data": {
            "text/plain": [
              "<Figure size 432x288 with 1 Axes>"
            ],
            "image/png": "[encoded data removed]"
          },
          "metadata": {
            "needs_background": "light"
          }
        }
      ],
      "source": [
        "plt.plot(history.history['loss'][10:])\n",
        "plt.plot(history.history['val_loss'][10:])\n",
        "plt.title('model loss')\n",
        "plt.ylabel('loss')\n",
        "plt.xlabel('epoch')\n",
        "plt.legend(['train', 'test'], loc='upper left')\n",
        "plt.show()"
      ]
    },
    {
      "cell_type": "code",
      "source": [
        "jh_model.save(path+'clss_model/jh/efnet1')"
      ],
      "metadata": {
        "colab": {
          "base_uri": "https://localhost:8080/"
        },
        "id": "7_V7sdHzR1Ym",
        "outputId": "fae1799d-1c81-4e2e-868f-abe63f67315c"
      },
      "execution_count": null,
      "outputs": [
        {
          "output_type": "stream",
          "name": "stderr",
          "text": [
            "WARNING:absl:Found untraced functions such as _jit_compiled_convolution_op, _jit_compiled_convolution_op, _jit_compiled_convolution_op, _jit_compiled_convolution_op, _jit_compiled_convolution_op while saving (showing 5 of 160). These functions will not be directly callable after loading.\n"
          ]
        }
      ]
    },
    {
      "cell_type": "markdown",
      "source": [
        "## **3. 분할선**"
      ],
      "metadata": {
        "id": "9WL38O2QS-NB"
      }
    },
    {
      "cell_type": "code",
      "source": [
        "EN3 = tf.keras.applications.EfficientNetB4(\n",
        "    include_top=False,\n",
        "    weights=\"imagenet\",\n",
        "    input_tensor=None,\n",
        "    input_shape=(224,224,3),\n",
        "    pooling=None,\n",
        "    classes=4,\n",
        "    classifier_activation=\"softmax\",\n",
        ")"
      ],
      "metadata": {
        "id": "P4r0_wBIS-NB"
      },
      "execution_count": null,
      "outputs": []
    },
    {
      "cell_type": "code",
      "source": [
        "#EN2.summary()"
      ],
      "metadata": {
        "id": "_ajhDBWzS-NB"
      },
      "execution_count": null,
      "outputs": []
    },
    {
      "cell_type": "code",
      "source": [
        "EN3.trainable=False"
      ],
      "metadata": {
        "id": "mRaeDtmdS-NC"
      },
      "execution_count": null,
      "outputs": []
    },
    {
      "cell_type": "code",
      "source": [
        "inputs = tf.keras.Input(shape=(224,224,3))\n",
        "x = EN3(inputs, training=False)\n",
        "x = tf.keras.layers.GlobalAveragePooling2D()(x)\n",
        "x = tf.keras.layers.Dropout(0.2)(x)\n",
        "x = tf.keras.layers.Dense(4)(x)\n",
        "bh_model = tf.keras.Model(inputs, x)"
      ],
      "metadata": {
        "id": "SA_jBprhS-NC"
      },
      "execution_count": null,
      "outputs": []
    },
    {
      "cell_type": "code",
      "source": [
        "bh_model.summary()"
      ],
      "metadata": {
        "colab": {
          "base_uri": "https://localhost:8080/"
        },
        "outputId": "51f7ee67-a65d-4bed-9ee1-0c92db194a1c",
        "id": "tjFJoXU1S-NC"
      },
      "execution_count": null,
      "outputs": [
        {
          "output_type": "stream",
          "name": "stdout",
          "text": [
            "Model: \"model_7\"\n",
            "_________________________________________________________________\n",
            " Layer (type)                Output Shape              Param #   \n",
            "=================================================================\n",
            " input_12 (InputLayer)       [(None, 224, 224, 3)]     0         \n",
            "                                                                 \n",
            " efficientnetb4 (Functional)  (None, 7, 7, 1792)       17673823  \n",
            "                                                                 \n",
            " global_average_pooling2d_7   (None, 1792)             0         \n",
            " (GlobalAveragePooling2D)                                        \n",
            "                                                                 \n",
            " dropout_7 (Dropout)         (None, 1792)              0         \n",
            "                                                                 \n",
            " dense_7 (Dense)             (None, 4)                 7172      \n",
            "                                                                 \n",
            "=================================================================\n",
            "Total params: 17,680,995\n",
            "Trainable params: 7,172\n",
            "Non-trainable params: 17,673,823\n",
            "_________________________________________________________________\n"
          ]
        }
      ]
    },
    {
      "cell_type": "code",
      "source": [
        "bh_model.compile(\n",
        "    optimizer=tf.keras.optimizers.Adam(0.00001),\n",
        "    loss=tf.keras.losses.SparseCategoricalCrossentropy(from_logits=True),\n",
        "    metrics=['acc']\n",
        ")"
      ],
      "metadata": {
        "id": "Hd3QF6zUS-NC"
      },
      "execution_count": null,
      "outputs": []
    },
    {
      "cell_type": "code",
      "source": [
        "history3 = bh_model.fit(X_train,y_bh_train,epochs=20 ,batch_size=32, validation_data=(X_val, y_bh_val))"
      ],
      "metadata": {
        "colab": {
          "base_uri": "https://localhost:8080/",
          "height": 620
        },
        "outputId": "7b3f42c6-e44a-4f98-ca1d-99f332d9a447",
        "id": "6EKAhBdiS-NC"
      },
      "execution_count": null,
      "outputs": [
        {
          "output_type": "stream",
          "name": "stdout",
          "text": [
            "Epoch 1/20\n",
            "141/141 [==============================] - 21s 75ms/step - loss: 0.0675 - acc: 0.9787 - val_loss: 0.0690 - val_acc: 0.9820\n",
            "Epoch 2/20\n",
            "141/141 [==============================] - 8s 56ms/step - loss: 0.0683 - acc: 0.9793 - val_loss: 0.0689 - val_acc: 0.9820\n",
            "Epoch 3/20\n",
            "141/141 [==============================] - 8s 55ms/step - loss: 0.0669 - acc: 0.9809 - val_loss: 0.0688 - val_acc: 0.9820\n",
            "Epoch 4/20\n",
            "141/141 [==============================] - 8s 54ms/step - loss: 0.0685 - acc: 0.9804 - val_loss: 0.0687 - val_acc: 0.9820\n",
            "Epoch 5/20\n",
            "141/141 [==============================] - 8s 54ms/step - loss: 0.0672 - acc: 0.9793 - val_loss: 0.0687 - val_acc: 0.9820\n",
            "Epoch 6/20\n",
            "141/141 [==============================] - 8s 55ms/step - loss: 0.0694 - acc: 0.9789 - val_loss: 0.0686 - val_acc: 0.9820\n",
            "Epoch 7/20\n",
            "141/141 [==============================] - 8s 54ms/step - loss: 0.0675 - acc: 0.9782 - val_loss: 0.0685 - val_acc: 0.9820\n",
            "Epoch 8/20\n",
            " 45/141 [========>.....................] - ETA: 3s - loss: 0.0708 - acc: 0.9764"
          ]
        },
        {
          "output_type": "error",
          "ename": "KeyboardInterrupt",
          "evalue": "ignored",
          "traceback": [
            "\u001b[0;31m---------------------------------------------------------------------------\u001b[0m",
            "\u001b[0;31mKeyboardInterrupt\u001b[0m                         Traceback (most recent call last)",
            "\u001b[0;32m<ipython-input-90-817bc56611c1>\u001b[0m in \u001b[0;36m<module>\u001b[0;34m\u001b[0m\n\u001b[0;32m----> 1\u001b[0;31m \u001b[0mhistory3\u001b[0m \u001b[0;34m=\u001b[0m \u001b[0mbh_model\u001b[0m\u001b[0;34m.\u001b[0m\u001b[0mfit\u001b[0m\u001b[0;34m(\u001b[0m\u001b[0mX_train\u001b[0m\u001b[0;34m,\u001b[0m\u001b[0my_bh_train\u001b[0m\u001b[0;34m,\u001b[0m\u001b[0mepochs\u001b[0m\u001b[0;34m=\u001b[0m\u001b[0;36m20\u001b[0m \u001b[0;34m,\u001b[0m\u001b[0mbatch_size\u001b[0m\u001b[0;34m=\u001b[0m\u001b[0;36m32\u001b[0m\u001b[0;34m,\u001b[0m \u001b[0mvalidation_data\u001b[0m\u001b[0;34m=\u001b[0m\u001b[0;34m(\u001b[0m\u001b[0mX_val\u001b[0m\u001b[0;34m,\u001b[0m \u001b[0my_bh_val\u001b[0m\u001b[0;34m)\u001b[0m\u001b[0;34m)\u001b[0m\u001b[0;34m\u001b[0m\u001b[0;34m\u001b[0m\u001b[0m\n\u001b[0m",
            "\u001b[0;32m/usr/local/lib/python3.7/dist-packages/keras/utils/traceback_utils.py\u001b[0m in \u001b[0;36merror_handler\u001b[0;34m(*args, **kwargs)\u001b[0m\n\u001b[1;32m     62\u001b[0m     \u001b[0mfiltered_tb\u001b[0m \u001b[0;34m=\u001b[0m \u001b[0;32mNone\u001b[0m\u001b[0;34m\u001b[0m\u001b[0;34m\u001b[0m\u001b[0m\n\u001b[1;32m     63\u001b[0m     \u001b[0;32mtry\u001b[0m\u001b[0;34m:\u001b[0m\u001b[0;34m\u001b[0m\u001b[0;34m\u001b[0m\u001b[0m\n\u001b[0;32m---> 64\u001b[0;31m       \u001b[0;32mreturn\u001b[0m \u001b[0mfn\u001b[0m\u001b[0;34m(\u001b[0m\u001b[0;34m*\u001b[0m\u001b[0margs\u001b[0m\u001b[0;34m,\u001b[0m \u001b[0;34m**\u001b[0m\u001b[0mkwargs\u001b[0m\u001b[0;34m)\u001b[0m\u001b[0;34m\u001b[0m\u001b[0;34m\u001b[0m\u001b[0m\n\u001b[0m\u001b[1;32m     65\u001b[0m     \u001b[0;32mexcept\u001b[0m \u001b[0mException\u001b[0m \u001b[0;32mas\u001b[0m \u001b[0me\u001b[0m\u001b[0;34m:\u001b[0m  \u001b[0;31m# pylint: disable=broad-except\u001b[0m\u001b[0;34m\u001b[0m\u001b[0;34m\u001b[0m\u001b[0m\n\u001b[1;32m     66\u001b[0m       \u001b[0mfiltered_tb\u001b[0m \u001b[0;34m=\u001b[0m \u001b[0m_process_traceback_frames\u001b[0m\u001b[0;34m(\u001b[0m\u001b[0me\u001b[0m\u001b[0;34m.\u001b[0m\u001b[0m__traceback__\u001b[0m\u001b[0;34m)\u001b[0m\u001b[0;34m\u001b[0m\u001b[0;34m\u001b[0m\u001b[0m\n",
            "\u001b[0;32m/usr/local/lib/python3.7/dist-packages/keras/engine/training.py\u001b[0m in \u001b[0;36mfit\u001b[0;34m(self, x, y, batch_size, epochs, verbose, callbacks, validation_split, validation_data, shuffle, class_weight, sample_weight, initial_epoch, steps_per_epoch, validation_steps, validation_batch_size, validation_freq, max_queue_size, workers, use_multiprocessing)\u001b[0m\n\u001b[1;32m   1407\u001b[0m                 _r=1):\n\u001b[1;32m   1408\u001b[0m               \u001b[0mcallbacks\u001b[0m\u001b[0;34m.\u001b[0m\u001b[0mon_train_batch_begin\u001b[0m\u001b[0;34m(\u001b[0m\u001b[0mstep\u001b[0m\u001b[0;34m)\u001b[0m\u001b[0;34m\u001b[0m\u001b[0;34m\u001b[0m\u001b[0m\n\u001b[0;32m-> 1409\u001b[0;31m               \u001b[0mtmp_logs\u001b[0m \u001b[0;34m=\u001b[0m \u001b[0mself\u001b[0m\u001b[0;34m.\u001b[0m\u001b[0mtrain_function\u001b[0m\u001b[0;34m(\u001b[0m\u001b[0miterator\u001b[0m\u001b[0;34m)\u001b[0m\u001b[0;34m\u001b[0m\u001b[0;34m\u001b[0m\u001b[0m\n\u001b[0m\u001b[1;32m   1410\u001b[0m               \u001b[0;32mif\u001b[0m \u001b[0mdata_handler\u001b[0m\u001b[0;34m.\u001b[0m\u001b[0mshould_sync\u001b[0m\u001b[0;34m:\u001b[0m\u001b[0;34m\u001b[0m\u001b[0;34m\u001b[0m\u001b[0m\n\u001b[1;32m   1411\u001b[0m                 \u001b[0mcontext\u001b[0m\u001b[0;34m.\u001b[0m\u001b[0masync_wait\u001b[0m\u001b[0;34m(\u001b[0m\u001b[0;34m)\u001b[0m\u001b[0;34m\u001b[0m\u001b[0;34m\u001b[0m\u001b[0m\n",
            "\u001b[0;32m/usr/local/lib/python3.7/dist-packages/tensorflow/python/util/traceback_utils.py\u001b[0m in \u001b[0;36merror_handler\u001b[0;34m(*args, **kwargs)\u001b[0m\n\u001b[1;32m    148\u001b[0m     \u001b[0mfiltered_tb\u001b[0m \u001b[0;34m=\u001b[0m \u001b[0;32mNone\u001b[0m\u001b[0;34m\u001b[0m\u001b[0;34m\u001b[0m\u001b[0m\n\u001b[1;32m    149\u001b[0m     \u001b[0;32mtry\u001b[0m\u001b[0;34m:\u001b[0m\u001b[0;34m\u001b[0m\u001b[0;34m\u001b[0m\u001b[0m\n\u001b[0;32m--> 150\u001b[0;31m       \u001b[0;32mreturn\u001b[0m \u001b[0mfn\u001b[0m\u001b[0;34m(\u001b[0m\u001b[0;34m*\u001b[0m\u001b[0margs\u001b[0m\u001b[0;34m,\u001b[0m \u001b[0;34m**\u001b[0m\u001b[0mkwargs\u001b[0m\u001b[0;34m)\u001b[0m\u001b[0;34m\u001b[0m\u001b[0;34m\u001b[0m\u001b[0m\n\u001b[0m\u001b[1;32m    151\u001b[0m     \u001b[0;32mexcept\u001b[0m \u001b[0mException\u001b[0m \u001b[0;32mas\u001b[0m \u001b[0me\u001b[0m\u001b[0;34m:\u001b[0m\u001b[0;34m\u001b[0m\u001b[0;34m\u001b[0m\u001b[0m\n\u001b[1;32m    152\u001b[0m       \u001b[0mfiltered_tb\u001b[0m \u001b[0;34m=\u001b[0m \u001b[0m_process_traceback_frames\u001b[0m\u001b[0;34m(\u001b[0m\u001b[0me\u001b[0m\u001b[0;34m.\u001b[0m\u001b[0m__traceback__\u001b[0m\u001b[0;34m)\u001b[0m\u001b[0;34m\u001b[0m\u001b[0;34m\u001b[0m\u001b[0m\n",
            "\u001b[0;32m/usr/local/lib/python3.7/dist-packages/tensorflow/python/eager/def_function.py\u001b[0m in \u001b[0;36m__call__\u001b[0;34m(self, *args, **kwds)\u001b[0m\n\u001b[1;32m    913\u001b[0m \u001b[0;34m\u001b[0m\u001b[0m\n\u001b[1;32m    914\u001b[0m       \u001b[0;32mwith\u001b[0m \u001b[0mOptionalXlaContext\u001b[0m\u001b[0;34m(\u001b[0m\u001b[0mself\u001b[0m\u001b[0;34m.\u001b[0m\u001b[0m_jit_compile\u001b[0m\u001b[0;34m)\u001b[0m\u001b[0;34m:\u001b[0m\u001b[0;34m\u001b[0m\u001b[0;34m\u001b[0m\u001b[0m\n\u001b[0;32m--> 915\u001b[0;31m         \u001b[0mresult\u001b[0m \u001b[0;34m=\u001b[0m \u001b[0mself\u001b[0m\u001b[0;34m.\u001b[0m\u001b[0m_call\u001b[0m\u001b[0;34m(\u001b[0m\u001b[0;34m*\u001b[0m\u001b[0margs\u001b[0m\u001b[0;34m,\u001b[0m \u001b[0;34m**\u001b[0m\u001b[0mkwds\u001b[0m\u001b[0;34m)\u001b[0m\u001b[0;34m\u001b[0m\u001b[0;34m\u001b[0m\u001b[0m\n\u001b[0m\u001b[1;32m    916\u001b[0m \u001b[0;34m\u001b[0m\u001b[0m\n\u001b[1;32m    917\u001b[0m       \u001b[0mnew_tracing_count\u001b[0m \u001b[0;34m=\u001b[0m \u001b[0mself\u001b[0m\u001b[0;34m.\u001b[0m\u001b[0mexperimental_get_tracing_count\u001b[0m\u001b[0;34m(\u001b[0m\u001b[0;34m)\u001b[0m\u001b[0;34m\u001b[0m\u001b[0;34m\u001b[0m\u001b[0m\n",
            "\u001b[0;32m/usr/local/lib/python3.7/dist-packages/tensorflow/python/eager/def_function.py\u001b[0m in \u001b[0;36m_call\u001b[0;34m(self, *args, **kwds)\u001b[0m\n\u001b[1;32m    945\u001b[0m       \u001b[0;31m# In this case we have created variables on the first call, so we run the\u001b[0m\u001b[0;34m\u001b[0m\u001b[0;34m\u001b[0m\u001b[0;34m\u001b[0m\u001b[0m\n\u001b[1;32m    946\u001b[0m       \u001b[0;31m# defunned version which is guaranteed to never create variables.\u001b[0m\u001b[0;34m\u001b[0m\u001b[0;34m\u001b[0m\u001b[0;34m\u001b[0m\u001b[0m\n\u001b[0;32m--> 947\u001b[0;31m       \u001b[0;32mreturn\u001b[0m \u001b[0mself\u001b[0m\u001b[0;34m.\u001b[0m\u001b[0m_stateless_fn\u001b[0m\u001b[0;34m(\u001b[0m\u001b[0;34m*\u001b[0m\u001b[0margs\u001b[0m\u001b[0;34m,\u001b[0m \u001b[0;34m**\u001b[0m\u001b[0mkwds\u001b[0m\u001b[0;34m)\u001b[0m  \u001b[0;31m# pylint: disable=not-callable\u001b[0m\u001b[0;34m\u001b[0m\u001b[0;34m\u001b[0m\u001b[0m\n\u001b[0m\u001b[1;32m    948\u001b[0m     \u001b[0;32melif\u001b[0m \u001b[0mself\u001b[0m\u001b[0;34m.\u001b[0m\u001b[0m_stateful_fn\u001b[0m \u001b[0;32mis\u001b[0m \u001b[0;32mnot\u001b[0m \u001b[0;32mNone\u001b[0m\u001b[0;34m:\u001b[0m\u001b[0;34m\u001b[0m\u001b[0;34m\u001b[0m\u001b[0m\n\u001b[1;32m    949\u001b[0m       \u001b[0;31m# Release the lock early so that multiple threads can perform the call\u001b[0m\u001b[0;34m\u001b[0m\u001b[0;34m\u001b[0m\u001b[0;34m\u001b[0m\u001b[0m\n",
            "\u001b[0;32m/usr/local/lib/python3.7/dist-packages/tensorflow/python/eager/function.py\u001b[0m in \u001b[0;36m__call__\u001b[0;34m(self, *args, **kwargs)\u001b[0m\n\u001b[1;32m   2452\u001b[0m        filtered_flat_args) = self._maybe_define_function(args, kwargs)\n\u001b[1;32m   2453\u001b[0m     return graph_function._call_flat(\n\u001b[0;32m-> 2454\u001b[0;31m         filtered_flat_args, captured_inputs=graph_function.captured_inputs)  # pylint: disable=protected-access\n\u001b[0m\u001b[1;32m   2455\u001b[0m \u001b[0;34m\u001b[0m\u001b[0m\n\u001b[1;32m   2456\u001b[0m   \u001b[0;34m@\u001b[0m\u001b[0mproperty\u001b[0m\u001b[0;34m\u001b[0m\u001b[0;34m\u001b[0m\u001b[0m\n",
            "\u001b[0;32m/usr/local/lib/python3.7/dist-packages/tensorflow/python/eager/function.py\u001b[0m in \u001b[0;36m_call_flat\u001b[0;34m(self, args, captured_inputs, cancellation_manager)\u001b[0m\n\u001b[1;32m   1859\u001b[0m       \u001b[0;31m# No tape is watching; skip to running the function.\u001b[0m\u001b[0;34m\u001b[0m\u001b[0;34m\u001b[0m\u001b[0;34m\u001b[0m\u001b[0m\n\u001b[1;32m   1860\u001b[0m       return self._build_call_outputs(self._inference_function.call(\n\u001b[0;32m-> 1861\u001b[0;31m           ctx, args, cancellation_manager=cancellation_manager))\n\u001b[0m\u001b[1;32m   1862\u001b[0m     forward_backward = self._select_forward_and_backward_functions(\n\u001b[1;32m   1863\u001b[0m         \u001b[0margs\u001b[0m\u001b[0;34m,\u001b[0m\u001b[0;34m\u001b[0m\u001b[0;34m\u001b[0m\u001b[0m\n",
            "\u001b[0;32m/usr/local/lib/python3.7/dist-packages/tensorflow/python/eager/function.py\u001b[0m in \u001b[0;36mcall\u001b[0;34m(self, ctx, args, cancellation_manager)\u001b[0m\n\u001b[1;32m    500\u001b[0m               \u001b[0minputs\u001b[0m\u001b[0;34m=\u001b[0m\u001b[0margs\u001b[0m\u001b[0;34m,\u001b[0m\u001b[0;34m\u001b[0m\u001b[0;34m\u001b[0m\u001b[0m\n\u001b[1;32m    501\u001b[0m               \u001b[0mattrs\u001b[0m\u001b[0;34m=\u001b[0m\u001b[0mattrs\u001b[0m\u001b[0;34m,\u001b[0m\u001b[0;34m\u001b[0m\u001b[0;34m\u001b[0m\u001b[0m\n\u001b[0;32m--> 502\u001b[0;31m               ctx=ctx)\n\u001b[0m\u001b[1;32m    503\u001b[0m         \u001b[0;32melse\u001b[0m\u001b[0;34m:\u001b[0m\u001b[0;34m\u001b[0m\u001b[0;34m\u001b[0m\u001b[0m\n\u001b[1;32m    504\u001b[0m           outputs = execute.execute_with_cancellation(\n",
            "\u001b[0;32m/usr/local/lib/python3.7/dist-packages/tensorflow/python/eager/execute.py\u001b[0m in \u001b[0;36mquick_execute\u001b[0;34m(op_name, num_outputs, inputs, attrs, ctx, name)\u001b[0m\n\u001b[1;32m     53\u001b[0m     \u001b[0mctx\u001b[0m\u001b[0;34m.\u001b[0m\u001b[0mensure_initialized\u001b[0m\u001b[0;34m(\u001b[0m\u001b[0;34m)\u001b[0m\u001b[0;34m\u001b[0m\u001b[0;34m\u001b[0m\u001b[0m\n\u001b[1;32m     54\u001b[0m     tensors = pywrap_tfe.TFE_Py_Execute(ctx._handle, device_name, op_name,\n\u001b[0;32m---> 55\u001b[0;31m                                         inputs, attrs, num_outputs)\n\u001b[0m\u001b[1;32m     56\u001b[0m   \u001b[0;32mexcept\u001b[0m \u001b[0mcore\u001b[0m\u001b[0;34m.\u001b[0m\u001b[0m_NotOkStatusException\u001b[0m \u001b[0;32mas\u001b[0m \u001b[0me\u001b[0m\u001b[0;34m:\u001b[0m\u001b[0;34m\u001b[0m\u001b[0;34m\u001b[0m\u001b[0m\n\u001b[1;32m     57\u001b[0m     \u001b[0;32mif\u001b[0m \u001b[0mname\u001b[0m \u001b[0;32mis\u001b[0m \u001b[0;32mnot\u001b[0m \u001b[0;32mNone\u001b[0m\u001b[0;34m:\u001b[0m\u001b[0;34m\u001b[0m\u001b[0;34m\u001b[0m\u001b[0m\n",
            "\u001b[0;31mKeyboardInterrupt\u001b[0m: "
          ]
        }
      ]
    },
    {
      "cell_type": "code",
      "source": [
        "bh_model.evaluate(X_test,y_bh_test)"
      ],
      "metadata": {
        "colab": {
          "base_uri": "https://localhost:8080/"
        },
        "outputId": "57064d8f-f472-4392-b5e3-472ce9ff16bb",
        "id": "JI32IScMS-NC"
      },
      "execution_count": null,
      "outputs": [
        {
          "output_type": "stream",
          "name": "stdout",
          "text": [
            "63/63 [==============================] - 3s 45ms/step - loss: 0.0814 - acc: 0.9735\n"
          ]
        },
        {
          "output_type": "execute_result",
          "data": {
            "text/plain": [
              "[0.08138228207826614, 0.9735000133514404]"
            ]
          },
          "metadata": {},
          "execution_count": 82
        }
      ]
    },
    {
      "cell_type": "code",
      "source": [
        "pred = bh_model.predict(X_test)"
      ],
      "metadata": {
        "colab": {
          "base_uri": "https://localhost:8080/"
        },
        "outputId": "a32e00b2-9427-423d-c936-f7dff361e581",
        "id": "DWBKz8oiS-NC"
      },
      "execution_count": null,
      "outputs": [
        {
          "output_type": "stream",
          "name": "stdout",
          "text": [
            "63/63 [==============================] - 5s 41ms/step\n"
          ]
        }
      ]
    },
    {
      "cell_type": "code",
      "source": [
        "error = defaultdict(int)\n",
        "for i in range(len(y_bh_test)):\n",
        "  if np.argmax(pred[i]) != y_bh_test[i]:\n",
        "    error[(bh_dict[np.argmax(pred[i])], bh_dict[y_bh_test[i]])] += 1"
      ],
      "metadata": {
        "id": "uAH0buhOS-NC"
      },
      "execution_count": null,
      "outputs": []
    },
    {
      "cell_type": "code",
      "source": [
        "sorted(error.items(), key=lambda v:v[1], reverse=True)"
      ],
      "metadata": {
        "colab": {
          "base_uri": "https://localhost:8080/"
        },
        "outputId": "df257f89-3083-4cc4-9bb5-ed04e120b60c",
        "id": "zYCqLO9SS-ND"
      },
      "execution_count": null,
      "outputs": [
        {
          "output_type": "execute_result",
          "data": {
            "text/plain": [
              "[(('x', '-'), 41), (('-', 'x'), 9), (('-', '+'), 2), (('x', '기타'), 1)]"
            ]
          },
          "metadata": {},
          "execution_count": 85
        }
      ]
    },
    {
      "cell_type": "code",
      "execution_count": null,
      "metadata": {
        "colab": {
          "base_uri": "https://localhost:8080/",
          "height": 295
        },
        "outputId": "31a2a37b-3630-4ecf-dd89-c23a9ee21a90",
        "id": "JlEH8Uf2S-ND"
      },
      "outputs": [
        {
          "output_type": "display_data",
          "data": {
            "text/plain": [
              "<Figure size 432x288 with 1 Axes>"
            ],
            "image/png": "[encoded data removed]"
          },
          "metadata": {
            "needs_background": "light"
          }
        }
      ],
      "source": [
        "plt.plot(history.history['acc'])\n",
        "plt.plot(history.history['val_acc'])\n",
        "plt.title('model accuracy')\n",
        "plt.ylabel('acc')\n",
        "plt.xlabel('epoch')\n",
        "plt.legend(['train', 'test'], loc='upper left')\n",
        "plt.show()"
      ]
    },
    {
      "cell_type": "code",
      "execution_count": null,
      "metadata": {
        "colab": {
          "base_uri": "https://localhost:8080/",
          "height": 295
        },
        "outputId": "7a40a7ae-0fa7-4ed7-c768-61ad1c80b715",
        "id": "g4gKizWsS-ND"
      },
      "outputs": [
        {
          "output_type": "display_data",
          "data": {
            "text/plain": [
              "<Figure size 432x288 with 1 Axes>"
            ],
            "image/png": "[encoded data removed]"
          },
          "metadata": {
            "needs_background": "light"
          }
        }
      ],
      "source": [
        "plt.plot(history.history['loss'][10:])\n",
        "plt.plot(history.history['val_loss'][10:])\n",
        "plt.title('model loss')\n",
        "plt.ylabel('loss')\n",
        "plt.xlabel('epoch')\n",
        "plt.legend(['train', 'test'], loc='upper left')\n",
        "plt.show()"
      ]
    },
    {
      "cell_type": "code",
      "source": [
        "bh_model.save(path+'clss_model/bh/efnet1')"
      ],
      "metadata": {
        "colab": {
          "base_uri": "https://localhost:8080/"
        },
        "id": "_znoUpc2S-ND",
        "outputId": "b7e36e4f-eff9-42a5-e1ec-3feb91e1d886"
      },
      "execution_count": null,
      "outputs": [
        {
          "output_type": "stream",
          "name": "stderr",
          "text": [
            "WARNING:absl:Found untraced functions such as _jit_compiled_convolution_op, _jit_compiled_convolution_op, _jit_compiled_convolution_op, _jit_compiled_convolution_op, _jit_compiled_convolution_op while saving (showing 5 of 160). These functions will not be directly callable after loading.\n"
          ]
        }
      ]
    },
    {
      "cell_type": "code",
      "source": [],
      "metadata": {
        "id": "3mimYN8hRyuZ"
      },
      "execution_count": null,
      "outputs": []
    }
  ]
}